{
  "nbformat": 4,
  "nbformat_minor": 0,
  "metadata": {
    "colab": {
      "provenance": [],
      "toc_visible": true
    },
    "kernelspec": {
      "name": "python3",
      "display_name": "Python 3"
    },
    "language_info": {
      "name": "python"
    }
  },
  "cells": [
    {
      "cell_type": "markdown",
      "source": [
        "# PyTorch Neural Network Classification\n",
        "\n",
        "## What is a classification problem?\n",
        "\n",
        "A [classification problem](https://en.wikipedia.org/wiki/Statistical_classification) involves predicting whether something is one thing or another.\n",
        "\n",
        "For example, you might want to:\n",
        "\n",
        "| Problem type | What is it? | Example |\n",
        "| ----- | ----- | ----- |\n",
        "| **Binary classification** | Categorize items into two classes or groups. | Spam email detection is a common example of binary classification. Given an email, the algorithm needs to classify it as either spam or not spam. |\n",
        "| **Multi-class classification** | Categorizing items into three or more classes or categories. | Handwritten digit recognition is a classic example of multiclass classification. The task is to classify an image of a handwritten digit (0 through 9) into one of the ten possible classes.|\n",
        "| **Multi-label classification** | Each item can belong to multiple classes simultaneously. | Consider a news article that can belong to multiple categories such as \"Politics,\" \"Technology,\" and \"Sports.\" A multilabel classifier for news articles would predict all relevant categories for a given article. |\n",
        "\n",
        "\n",
        "\n"
      ],
      "metadata": {
        "id": "b7mhz9pcyDTr"
      }
    },
    {
      "cell_type": "markdown",
      "source": [
        "## 1.Architecture Of Classification Neural Network\n",
        "\n",
        "Before moving further, let's look at the `General Architecture` of a classification neural network.\n",
        "\n",
        "| **Hyperparameter** | **Binary Classification** | **Multiclass classification** |\n",
        "| --- | --- | --- |\n",
        "| **Input layer shape** (`in_features`) | Same as number of features (e.g. 5 for age, sex, height, weight, smoking status in heart disease prediction) | Same as binary classification |\n",
        "| **Hidden layer(s)** | Problem specific, minimum = 1, maximum = unlimited | Same as binary classification |\n",
        "| **Neurons per hidden layer** | Problem specific, generally 10 to 512 | Same as binary classification |\n",
        "| **Output layer shape** (`out_features`) | 1 (one class or the other) | 1 per class (e.g. 3 for food, person or dog photo) |\n",
        "| **Hidden layer activation** | Usually [ReLU](https://pytorch.org/docs/stable/generated/torch.nn.ReLU.html#torch.nn.ReLU) (rectified linear unit) but [can be many others](https://en.wikipedia.org/wiki/Activation_function#Table_of_activation_functions) | Same as binary classification |\n",
        "| **Output activation** | [Sigmoid](https://en.wikipedia.org/wiki/Sigmoid_function) ([`torch.sigmoid`](https://pytorch.org/docs/stable/generated/torch.sigmoid.html) in PyTorch)| [Softmax](https://en.wikipedia.org/wiki/Softmax_function) ([`torch.softmax`](https://pytorch.org/docs/stable/generated/torch.nn.Softmax.html) in PyTorch) |\n",
        "| **Loss function** | [Binary crossentropy](https://en.wikipedia.org/wiki/Cross_entropy#Cross-entropy_loss_function_and_logistic_regression) ([`torch.nn.BCELoss`](https://pytorch.org/docs/stable/generated/torch.nn.BCELoss.html) in PyTorch) | Cross entropy ([`torch.nn.CrossEntropyLoss`](https://pytorch.org/docs/stable/generated/torch.nn.CrossEntropyLoss.html) in PyTorch) |\n",
        "| **Optimizer** | [SGD](https://pytorch.org/docs/stable/generated/torch.optim.SGD.html) (stochastic gradient descent), [Adam](https://pytorch.org/docs/stable/generated/torch.optim.Adam.html) (see [`torch.optim`](https://pytorch.org/docs/stable/optim.html) for more options) | Same as binary classification |\n",
        "\n"
      ],
      "metadata": {
        "id": "mdcr1EN6yDds"
      }
    },
    {
      "cell_type": "markdown",
      "source": [
        "## 2.Having Classification Data\n",
        "\n",
        "Let's begin by making some data. we will use this data to train our model.\n",
        "\n",
        "> Here is the [`make_circles()`](https://scikit-learn.org/stable/modules/generated/sklearn.datasets.make_circles.html) method from Scikit-Learn to generate two circles.\n"
      ],
      "metadata": {
        "id": "b3zWXH2TyDgU"
      }
    },
    {
      "cell_type": "code",
      "source": [
        "from sklearn.datasets import make_circles\n",
        "\n",
        "# Number of Samples , How much datawe want.\n",
        "num_samples = 1000\n",
        "\n",
        "# make the circles\n",
        "X,y = make_circles(num_samples,\n",
        "                   noise = 0.03,\n",
        "                   random_state = 42)"
      ],
      "metadata": {
        "id": "brI9rSxayDiq"
      },
      "execution_count": null,
      "outputs": []
    },
    {
      "cell_type": "code",
      "source": [
        "print(f\"First five Examples X: \\n\",X[:5])\n",
        "print(f\"first five Eacample y: \\n\",y[:5])"
      ],
      "metadata": {
        "id": "952cu91wyDk8"
      },
      "execution_count": null,
      "outputs": []
    },
    {
      "cell_type": "code",
      "source": [
        "print(X.shape , y.shape)"
      ],
      "metadata": {
        "id": "wCZXutE2BbLM"
      },
      "execution_count": null,
      "outputs": []
    },
    {
      "cell_type": "markdown",
      "source": [
        "This tells us the second dimension for `X` means it has two features (vector) where as `y` has a single feature (scalar).\n",
        "\n",
        "We have two inputs for one output."
      ],
      "metadata": {
        "id": "VPIo3m-EBfg0"
      }
    },
    {
      "cell_type": "markdown",
      "source": [
        "Let's convert the data into Pandas dataframe to visualize it.\n"
      ],
      "metadata": {
        "id": "I2QAV2688aI9"
      }
    },
    {
      "cell_type": "code",
      "source": [
        "import pandas as pd\n",
        "\n",
        "circles = pd.DataFrame({\"X1\" : X[:,0] , \"X2\" : X[:,1], \"Labels\" : y[:]})\n",
        "\n",
        "circles.head(10)"
      ],
      "metadata": {
        "id": "pcwtDY1-80bj"
      },
      "execution_count": null,
      "outputs": []
    },
    {
      "cell_type": "markdown",
      "source": [
        "Each value contain `X1 & X2` pair and have one `y-label` either `0 or 1` assign to it. Its mean that it's a **Binary Classification** problem."
      ],
      "metadata": {
        "id": "SLU0EMsM9V4l"
      }
    },
    {
      "cell_type": "code",
      "source": [
        "# How many values to each individual class\n",
        "circles.Labels.value_counts()"
      ],
      "metadata": {
        "id": "FNqQ_ZUc93sT"
      },
      "execution_count": null,
      "outputs": []
    },
    {
      "cell_type": "markdown",
      "source": [
        "Visualize the data by plotting it."
      ],
      "metadata": {
        "id": "AAxK_OU2_Sat"
      }
    },
    {
      "cell_type": "code",
      "source": [
        "# Plot the data\n",
        "\n",
        "import matplotlib.pyplot as plt\n",
        "\n",
        "plt.scatter(x = X[:,0],\n",
        "            y = X[:,1],\n",
        "            c = y,\n",
        "            cmap=plt.cm.RdYlBu)"
      ],
      "metadata": {
        "colab": {
          "base_uri": "https://localhost:8080/",
          "height": 447
        },
        "id": "4YcLHc2s-OpV",
        "outputId": "a8eb0e74-d66c-4363-a3cc-d5a5d071488e"
      },
      "execution_count": 135,
      "outputs": [
        {
          "output_type": "execute_result",
          "data": {
            "text/plain": [
              "<matplotlib.collections.PathCollection at 0x7bc42662b190>"
            ]
          },
          "metadata": {},
          "execution_count": 135
        },
        {
          "output_type": "display_data",
          "data": {
            "text/plain": [
              "<Figure size 640x480 with 1 Axes>"
            ],
            "image/png": "[encoded data removed]"
          },
          "metadata": {}
        }
      ]
    },
    {
      "cell_type": "markdown",
      "source": [
        "### 2.1 Convert the Data Into Tensor & Train-Test Split\n",
        "\n",
        "\n",
        "1. Turn our data into tensors (Numpy > Tensor `PyTorch prefers to work with PyTorch tensors`).\n",
        "2. Split our data into training and test sets."
      ],
      "metadata": {
        "id": "nVJjjwT3_sG-"
      }
    },
    {
      "cell_type": "code",
      "source": [
        "import torch\n",
        "\n",
        "# Conver the data into tensors\n",
        "X = torch.from_numpy(X).type(dtype = torch.float)\n",
        "y = torch.from_numpy(y).type(dtype = torch.float)\n",
        "\n",
        "X[:5],y[:5]"
      ],
      "metadata": {
        "id": "FY0oplW4B6QP"
      },
      "execution_count": null,
      "outputs": []
    },
    {
      "cell_type": "markdown",
      "source": [
        "For splitting the data into train and test set  [`train_test_split()`](https://scikit-learn.org/stable/modules/generated/sklearn.model_selection.train_test_split.html) from Scikit-Learn.\n",
        "\n",
        "We'll use `test_size=0.2` (80% training, 20% testing)."
      ],
      "metadata": {
        "id": "Z_yrw-xWWBUL"
      }
    },
    {
      "cell_type": "code",
      "source": [
        "# Split data into train and test sets\n",
        "from sklearn.model_selection import train_test_split\n",
        "\n",
        "X_train, X_test, y_train, y_test = train_test_split(X,\n",
        "                                                    y,\n",
        "                                                    test_size=0.2, # 20% test, 80% train\n",
        "                                                    random_state=42) # make the random split reproducible\n",
        "\n",
        "len(X_train), len(X_test), len(y_train), len(y_test)"
      ],
      "metadata": {
        "id": "CBKkiEhRWNym"
      },
      "execution_count": null,
      "outputs": []
    },
    {
      "cell_type": "markdown",
      "source": [
        "## 3.Building a Moodel\n",
        "\n",
        "Now it's time to build the Model.\n",
        "\n",
        "\n",
        "\n",
        "1. Setting up device agnostic code (so our model can run on CPU or GPU if it's available).\n",
        "2. Constructing a model.\n",
        "3. Defining a loss function and optimizer.\n",
        "4. Creating a training and testing loop(this'll be in the next section)."
      ],
      "metadata": {
        "id": "KNF_Qa7lCm3-"
      }
    },
    {
      "cell_type": "code",
      "source": [
        "import torch\n",
        "\n",
        "device  = \"cuda\" if torch.cuda.is_available() else \"cpu\"\n",
        "device"
      ],
      "metadata": {
        "id": "sMm9_fPFDM65"
      },
      "execution_count": null,
      "outputs": []
    },
    {
      "cell_type": "markdown",
      "source": [
        "### 3.1 Let's Create A  Model Class:\n",
        "1. Subclasses `nn.Module` (almost all PyTorch models are subclasses of `nn.Module`).\n",
        "2. Creates 2 `nn.Linear` layers in the constructor capable of handling the input and output shapes of `X` and `y`.\n",
        "3. Defines a `forward()` method containing the forward pass computation of the model.\n",
        "4. Instantiates the model class and sends it to the target `device`."
      ],
      "metadata": {
        "id": "vPXLWcb-DpL7"
      }
    },
    {
      "cell_type": "code",
      "source": [
        "from torch import nn\n",
        "class  classificationModelV1(nn.Module):\n",
        "  def __init__(self):\n",
        "    super().__init__()\n",
        "    # Make the two linear layers\n",
        "    self.layer_1 = nn.Linear(in_features=2, out_features=5) # takes in 2 features (X), produces 5 features\n",
        "    self.layer_2 = nn.Linear(in_features=5, out_features=1) # takes in 5 features, produces 1 feature (y)\n",
        "\n",
        "  # forward method\n",
        "  def forward(self,x):\n",
        "    # computation goes through layer_1 first then the output of layer_1 goes through layer_2, output a single feature as y\n",
        "    return self.layer_2(self.layer_1(x))"
      ],
      "metadata": {
        "id": "6MtrUbw1DyAV"
      },
      "execution_count": null,
      "outputs": []
    },
    {
      "cell_type": "code",
      "source": [
        "# Lets instantiate the model and send it to target device\n",
        "\n",
        "model_1 = classificationModelV1()\n",
        "model_1.to(device)"
      ],
      "metadata": {
        "id": "mq6cfgAqJL-h"
      },
      "execution_count": null,
      "outputs": []
    },
    {
      "cell_type": "markdown",
      "source": [
        "You can also do the same as above using [`nn.Sequential`](https://pytorch.org/docs/stable/generated/torch.nn.Sequential.html).\n",
        "\n",
        "`nn.Sequential` performs a forward pass computation of the input data through the layers in the order they appear."
      ],
      "metadata": {
        "id": "H3w55bZ7Jaxh"
      }
    },
    {
      "cell_type": "code",
      "source": [
        "# Replicate CircleModelV0 with nn.Sequential\n",
        "model_1 = nn.Sequential(\n",
        "    nn.Linear(in_features=2, out_features=5),\n",
        "    nn.Linear(in_features=5, out_features=1)\n",
        ").to(device)\n",
        "\n",
        "model_1"
      ],
      "metadata": {
        "id": "rAtVAfLAKPDa"
      },
      "execution_count": null,
      "outputs": []
    },
    {
      "cell_type": "markdown",
      "source": [
        "### 3.2 Loss Funtion & Optimizer\n",
        "\n",
        "We've setup a loss (also called a criterion or cost function) and optimizer before in [notebook 2](https://colab.research.google.com/github/mhamzaraheel/pytorch_DeepLearning/blob/main/NooteBooks/2_pytorch_workflow.ipynb#scrollTo=QaOi9y-8n0p9).\n",
        "\n",
        "But different problem types require different loss functions, i.e.\n",
        "\n",
        "1. For regresssion problem we need (MAE) loss.\n",
        "\n",
        "2. For a binary classification problem (like ours), you'll often use [binary cross entropy](https://towardsdatascience.com/understanding-binary-cross-entropy-log-loss-a-visual-explanation-a3ac6025181a) as the loss function.\n",
        "\n",
        "However, the same optimizer function can often be used across different problem spaces.\n",
        "\n",
        "For example, the stochastic gradient descent optimizer (SGD, `torch.optim.SGD()`) & Adam optimizer (`torch.optim.Adam()`) can be used for a range of problems.\n",
        "\n",
        "| Loss function/Optimizer | Problem type | PyTorch Code |\n",
        "| ----- | ----- | ----- |\n",
        "| Stochastic Gradient Descent (SGD) optimizer | Classification, regression, many others. | [`torch.optim.SGD()`](https://pytorch.org/docs/stable/generated/torch.optim.SGD.html) |\n",
        "| Adam Optimizer | Classification, regression, many others. | [`torch.optim.Adam()`](https://pytorch.org/docs/stable/generated/torch.optim.Adam.html) |\n",
        "| Binary cross entropy loss | Binary classification | [`torch.nn.BCELossWithLogits`](https://pytorch.org/docs/stable/generated/torch.nn.BCEWithLogitsLoss.html) or [`torch.nn.BCELoss`](https://pytorch.org/docs/stable/generated/torch.nn.BCELoss.html) |\n",
        "| Cross entropy loss | Mutli-class classification | [`torch.nn.CrossEntropyLoss`](https://pytorch.org/docs/stable/generated/torch.nn.CrossEntropyLoss.html) |\n",
        "| Mean absolute error (MAE) or L1 Loss | Regression | [`torch.nn.L1Loss`](https://pytorch.org/docs/stable/generated/torch.nn.L1Loss.html) |\n",
        "| Mean squared error (MSE) or L2 Loss | Regression | [`torch.nn.MSELoss`](https://pytorch.org/docs/stable/generated/torch.nn.MSELoss.html#torch.nn.MSELoss) |  \n",
        "\n",
        "\n",
        "\n",
        "PyTorch has two binary cross entropy implementations:\n",
        "1. [`torch.nn.BCELoss()`](https://pytorch.org/docs/stable/generated/torch.nn.BCELoss.html) - Creates a loss function that measures the binary cross entropy between the target (label) and input (features).\n",
        "2. [`torch.nn.BCEWithLogitsLoss()`](https://pytorch.org/docs/stable/generated/torch.nn.BCEWithLogitsLoss.html) - This is the same as above except it has a sigmoid layer ([`nn.Sigmoid`](https://pytorch.org/docs/stable/generated/torch.nn.Sigmoid.html)) built-in.\n",
        "\n",
        "Which one should you use?\n",
        "\n",
        "The [documentation for `torch.nn.BCEWithLogitsLoss()`](https://pytorch.org/docs/stable/generated/torch.nn.BCEWithLogitsLoss.html) states that it's more numerically stable than using `torch.nn.BCELoss()` after a `nn.Sigmoid` layer.\n",
        "\n",
        "\n",
        "\n",
        "For the optimizer we'll use `torch.optim.SGD()` to optimize the model parameters with learning rate 0.1.\n",
        "\n",
        "> **Note:** There's a [discussion on the PyTorch forums about the use of `nn.BCELoss` vs. `nn.BCEWithLogitsLoss`](https://discuss.pytorch.org/t/bceloss-vs-bcewithlogitsloss/33586/4)."
      ],
      "metadata": {
        "id": "hrjrxMlDKQ7Y"
      }
    },
    {
      "cell_type": "code",
      "source": [
        "# Create a loss function\n",
        "# loss_fn = nn.BCELoss() = no sigmoid built-in\n",
        "          # nn.BCEWithLogitsLoss = sigmoid built-in\n",
        "loss_fn = nn.BCEWithLogitsLoss()\n",
        "\n",
        "# Create an optimizer\n",
        "optimizer = torch.optim.SGD(params=model_1.parameters(),\n",
        "                            lr=0.1)"
      ],
      "metadata": {
        "id": "5YtzD-nxdAIp"
      },
      "execution_count": null,
      "outputs": []
    },
    {
      "cell_type": "markdown",
      "source": [
        "Now let's also create an **Evaluation Metric**.\n",
        "\n",
        "\n",
        "<p align=\"justify\">\n",
        "\"An evaluation metric measures how 'right' a model is, offering a different perspective than a loss function. Accuracy, a common metric for classification problems, calculates the percentage of correct predictions. For instance, a model with 99 correct predictions out of 100 has an accuracy of 99%. Here's a Python function to calculate accuracy:\"\n",
        "\n"
      ],
      "metadata": {
        "id": "Wngg710iMgme"
      }
    },
    {
      "cell_type": "code",
      "source": [
        "# Calculate Accuracy\n",
        "def calculate_accuracy(y_true, y_pred):\n",
        "    correct = torch.eq(y_true, y_pred).sum().item()\n",
        "    acc = (correct / len(y_pred)) * 100\n",
        "    return acc"
      ],
      "metadata": {
        "id": "Zlm_yH_wQ_Gx"
      },
      "execution_count": null,
      "outputs": []
    },
    {
      "cell_type": "markdown",
      "source": [
        "## 4.Train model\n",
        "\n",
        "We have build the model, setup loss fun and optimizer > now we have to train the model.\n",
        "\n",
        "We have already covered the training loops steps. If you don't know let's have a look.\n",
        "\n",
        "\n",
        "\n",
        "\n",
        "<details>\n",
        "    <summary>PyTorch Training Loop Steps</summary>\n",
        "    <ol>\n",
        "        <li><b>Forward pass</b> - The model goes through all of the training data once, performing its\n",
        "            <code>forward()</code> function\n",
        "            calculations (<code>model(x_train)</code>).\n",
        "        </li>\n",
        "        <li><b>Calculate the loss</b> - The model's outputs (predictions) are compared to the ground truth and evaluated\n",
        "            to see how\n",
        "            wrong they are (<code>loss = loss_fn(y_pred, y_train</code>).</li>\n",
        "        <li><b>Zero gradients</b> - The optimizers gradients are set to zero (they are accumulated by default) so they\n",
        "            can be\n",
        "            recalculated for the specific training step (<code>optimizer.zero_grad()</code>).</li>\n",
        "        <li><b>Perform backpropagation on the loss</b> - Computes the gradient of the loss with respect for every model\n",
        "            parameter to\n",
        "            be updated (each parameter\n",
        "            with <code>requires_grad=True</code>). This is known as <b>backpropagation</b>, hence \"backwards\"\n",
        "            (<code>loss.backward()</code>).</li>\n",
        "        <li><b>Step the optimizer (gradient descent)</b> - Update the parameters with <code>requires_grad=True</code>\n",
        "            with respect to the loss\n",
        "            gradients in order to improve them (<code>optimizer.step()</code>).</li>\n",
        "    </ol>\n",
        "</details>\n",
        "\n"
      ],
      "metadata": {
        "id": "gcfKml3nRhqt"
      }
    },
    {
      "cell_type": "markdown",
      "source": [
        "### 4.1 Going from Raw Model Outputs to Predicted labels\n",
        " > logits -> prediction probabilities -> prediction labels\n",
        "\n",
        "Before the training loop steps, let's see what comes out of our model after forward pass."
      ],
      "metadata": {
        "id": "Xo379VGDRslB"
      }
    },
    {
      "cell_type": "code",
      "source": [
        "y_logits = model_1(X_test[:5].to(device))\n",
        "y_logits"
      ],
      "metadata": {
        "id": "ERhxlF-fVka8"
      },
      "execution_count": null,
      "outputs": []
    },
    {
      "cell_type": "markdown",
      "source": [
        "> The raw outputs of our model are often referred to as [**logits**](https://datascience.stackexchange.com/a/31045).\n",
        "\n",
        "However, these numbers are hard to interpret.To get our model's raw outputs (logits) into our predicted labels, we can use the [sigmoid activation function](https://pytorch.org/docs/stable/generated/torch.sigmoid.html).\n"
      ],
      "metadata": {
        "id": "T0pfGnieWe9d"
      }
    },
    {
      "cell_type": "code",
      "source": [
        "y_prebs = torch.sigmoid(y_logits)\n",
        "y_prebs"
      ],
      "metadata": {
        "id": "QATg2yl6XgPS"
      },
      "execution_count": null,
      "outputs": []
    },
    {
      "cell_type": "markdown",
      "source": [
        "Now these are in the form of **Prediction Probabilties**.\n",
        "\n",
        "In classification, probability represents the likelihood that a given instance belongs to a particular class.\n",
        "\n",
        "\n",
        "The closer to 0, the more the model thinks the sample belongs to class 0, the closer to 1, the more the model thinks the sample belongs to class 1.\n",
        "\n",
        "More specificially:\n",
        "* If `y_pred_probs` >= 0.5, `y=1` (class 1)\n",
        "* If `y_pred_probs` < 0.5, `y=0` (class 0)\n",
        "\n",
        "To turn our prediction probabilities in prediction labels, we can round the outputs of the sigmoid activation function.\n"
      ],
      "metadata": {
        "id": "EOiZow3hXqlR"
      }
    },
    {
      "cell_type": "code",
      "source": [
        "# Find the predicted labels (round the prediction probabilities)\n",
        "y_preds = torch.round(y_prebs)\n",
        "\n",
        "# all_in_one\n",
        "y_pred_labels = torch.round(torch.sigmoid(model_1(X_test.to(device))[:5]))\n",
        "\n",
        "# Check for equality wheteher the step by step process equals to the all_in_one\n",
        "print(torch.eq(y_preds.squeeze(), y_pred_labels.squeeze()))\n"
      ],
      "metadata": {
        "id": "X46j0oB8Yp3t"
      },
      "execution_count": null,
      "outputs": []
    },
    {
      "cell_type": "markdown",
      "source": [
        "### 4.2 Training & Testing Loop\n",
        "\n",
        "Alright, we've discussed how to take our raw model outputs logits and convert them to prediction labels, now let's build a training loop.\n"
      ],
      "metadata": {
        "id": "1qyEntVyZjHx"
      }
    },
    {
      "cell_type": "code",
      "source": [
        "torch.manual_seed(42)\n",
        "\n",
        "# Set the number of epochs\n",
        "epochs = 100\n",
        "\n",
        "# Put data to target device\n",
        "X_train, y_train = X_train.to(device), y_train.to(device)\n",
        "X_test, y_test = X_test.to(device), y_test.to(device)\n",
        "\n",
        "# Build training and evaluation loop\n",
        "for epoch in range(epochs):\n",
        "    ### Training\n",
        "    model_1.train()\n",
        "\n",
        "    # 1. Forward pass\n",
        "    y_logits = model_1(X_train).squeeze()\n",
        "    y_pred = torch.round(torch.sigmoid(y_logits)) # turn logits -> pred probs -> pred labls\n",
        "\n",
        "    # 2. Calculate loss/accuracy\n",
        "    # loss = loss_fn(torch.sigmoid(y_logits), # Using nn.BCELoss you need torch.sigmoid()\n",
        "    #                y_train)\n",
        "    loss = loss_fn(y_logits, # Using nn.BCEWithLogitsLoss works with raw logits\n",
        "                   y_train)\n",
        "    acc = calculate_accuracy(y_true=y_train,\n",
        "                      y_pred=y_pred)\n",
        "\n",
        "    # 3. Optimizer zero grad\n",
        "    optimizer.zero_grad()\n",
        "\n",
        "    # 4. Loss backwards\n",
        "    loss.backward()\n",
        "\n",
        "    # 5. Optimizer step\n",
        "    optimizer.step()\n",
        "\n",
        "    ### Testing\n",
        "    model_1.eval()\n",
        "    with torch.inference_mode():\n",
        "        # 1. Forward pass\n",
        "        test_logits = model_1(X_test).squeeze()\n",
        "        test_pred = torch.round(torch.sigmoid(test_logits))\n",
        "        # 2. Caculate loss/accuracy\n",
        "        test_loss = loss_fn(test_logits,\n",
        "                            y_test)\n",
        "        test_acc = calculate_accuracy(y_true=y_test,\n",
        "                               y_pred=test_pred)\n",
        "\n",
        "    # Print out what's happening every 10 epochs\n",
        "    if epoch % 10 == 0:\n",
        "        print(f\"Epoch: {epoch} | Loss: {loss:.5f}, Accuracy: {acc:.2f}% | Test loss: {test_loss:.5f}, Test acc: {test_acc:.2f}%\")"
      ],
      "metadata": {
        "id": "RqR1SfFFaJWl"
      },
      "execution_count": null,
      "outputs": []
    },
    {
      "cell_type": "markdown",
      "source": [
        "## 5.Make Predictions & Evaluate the Model\n",
        "\n",
        "Let's make a plot of our model's predictions, the data it's trying to predict on and the decision boundary it's creating for whether something is class 0 or class 1.\n",
        "\n",
        "\n",
        "We have `plot_decision_boundary()` which creates a NumPy meshgrid to visually plot the different points where our model is predicting certain classes.\n"
      ],
      "metadata": {
        "id": "phtKP3xTe4Lg"
      }
    },
    {
      "cell_type": "code",
      "source": [
        "import numpy as np\n",
        "def plot_decision_boundary(model: torch.nn.Module, X: torch.Tensor, y: torch.Tensor):\n",
        "    \"\"\"Plots decision boundaries of model predicting on X in comparison to y.\n",
        "\n",
        "    Source - https://madewithml.com/courses/foundations/neural-networks/ (with modifications)\n",
        "    \"\"\"\n",
        "    # Put everything to CPU (works better with NumPy + Matplotlib)\n",
        "    model.to(\"cpu\")\n",
        "    X, y = X.to(\"cpu\"), y.to(\"cpu\")\n",
        "\n",
        "    # Setup prediction boundaries and grid\n",
        "    x_min, x_max = X[:, 0].min() - 0.1, X[:, 0].max() + 0.1\n",
        "    y_min, y_max = X[:, 1].min() - 0.1, X[:, 1].max() + 0.1\n",
        "    xx, yy = np.meshgrid(np.linspace(x_min, x_max, 101), np.linspace(y_min, y_max, 101))\n",
        "\n",
        "    # Make features\n",
        "    X_to_pred_on = torch.from_numpy(np.column_stack((xx.ravel(), yy.ravel()))).float()\n",
        "\n",
        "    # Make predictions\n",
        "    model.eval()\n",
        "    with torch.inference_mode():\n",
        "        y_logits = model(X_to_pred_on)\n",
        "\n",
        "    # Test for multi-class or binary and adjust logits to prediction labels\n",
        "    if len(torch.unique(y)) > 2:\n",
        "        y_pred = torch.softmax(y_logits, dim=1).argmax(dim=1)  # mutli-class\n",
        "    else:\n",
        "        y_pred = torch.round(torch.sigmoid(y_logits))  # binary\n",
        "\n",
        "    # Reshape preds and plot\n",
        "    y_pred = y_pred.reshape(xx.shape).detach().numpy()\n",
        "    plt.contourf(xx, yy, y_pred, cmap=plt.cm.RdYlBu, alpha=0.7)\n",
        "    plt.scatter(X[:, 0], X[:, 1], c=y, s=40, cmap=plt.cm.RdYlBu)\n",
        "    plt.xlim(xx.min(), xx.max())\n",
        "    plt.ylim(yy.min(), yy.max())"
      ],
      "metadata": {
        "id": "pKf-fn6Ddqp7"
      },
      "execution_count": null,
      "outputs": []
    },
    {
      "cell_type": "code",
      "source": [
        "# Plot decision boundaries for training and test sets\n",
        "plt.figure(figsize=(12, 6))\n",
        "plt.subplot(1, 2, 1)\n",
        "plt.title(\"Train\")\n",
        "plot_decision_boundary(model_1, X_train, y_train)\n",
        "plt.subplot(1, 2, 2)\n",
        "plt.title(\"Test\")\n",
        "plot_decision_boundary(model_1, X_test, y_test)"
      ],
      "metadata": {
        "id": "Em1Uxdxkefu7"
      },
      "execution_count": null,
      "outputs": []
    },
    {
      "cell_type": "markdown",
      "source": [
        "\n",
        "\n",
        "It's currently trying to split the red and blue dots using a straight line.That explains the 50% accuracy. Since our data is circular, drawing a straight line can at best cut it down the middle.\n",
        "\n",
        "In machine learning terms, our model is **underfitting**, meaning it's not learning predictive patterns from the data.\n",
        "*How could we improve this?*"
      ],
      "metadata": {
        "id": "CMrjNY2Tflsf"
      }
    },
    {
      "cell_type": "markdown",
      "source": [
        "## 6.Improving a model (From a Model Perspective)\n",
        "\n",
        "Let's try to fix our model's underfitting problem.\n",
        "\n",
        "Focusing specifically on the model (not the data), there are a few ways we could do this.\n",
        "\n",
        "| Model improvement technique* | What does it do? |\n",
        "| ----- | ----- |\n",
        "| **Add more layers** | Each layer *potentially* increases the learning capabilities of the model with each layer being able to learn some kind of new pattern in the data, more layers is often referred to as making your neural network *deeper*. |\n",
        "| **Add more hidden units** | Similar to the above, more hidden units per layer means a *potential* increase in learning capabilities of the model, more hidden units is often referred to as making your neural network *wider*. |\n",
        "| **Fitting for longer (more epochs)** | Your model might learn more if it had more opportunities to look at the data. |\n",
        "| **Changing the activation functions** | Some data just can't be fit with only straight lines (like what we've seen), using non-linear activation functions can help with this (hint, hint). |\n",
        "| **Change the learning rate** | Less model specific, but still related, the learning rate of the optimizer decides how much a model should change its parameters each step, too much and the model overcorrects, too little and it doesn't learn enough. |\n",
        "| **Change the loss function** | Again, less model specific but still important, different problems require different loss functions. For example, a binary cross entropy loss function won't work with a multi-class classification problem. |\n",
        "| **Use transfer learning** | Take a pretrained model from a problem domain similar to yours and adjust it to your own problem. We cover transfer learning in [notebook 06](https://www.learnpytorch.io/06_pytorch_transfer_learning/). |\n",
        "\n",
        "> **Note:** *because you can adjust all of these by hand, they're referred to as **hyperparameters**.\n",
        ">\n"
      ],
      "metadata": {
        "id": "9GHyDq-ChK6B"
      }
    },
    {
      "cell_type": "markdown",
      "source": [
        "### 6.1 Add Extra Layer Increase Hidden units & Increse Number Of Epochs\n",
        "\n",
        "Let's see what happens if we add an extra layer to our model, fit for longer (`epochs=1000` instead of `epochs=100`) and increase the number of hidden units from `5` to `10`.\n",
        "\n"
      ],
      "metadata": {
        "id": "Tep2dNfHk31n"
      }
    },
    {
      "cell_type": "code",
      "source": [
        "class classificationModelV2(nn.Module):\n",
        "    def __init__(self):\n",
        "        super().__init__()\n",
        "        self.layer_1 = nn.Linear(in_features=2, out_features=10)\n",
        "        self.layer_2 = nn.Linear(in_features=10, out_features=10) # extra layer\n",
        "        self.layer_3 = nn.Linear(in_features=10, out_features=1)\n",
        "\n",
        "    def forward(self, x):\n",
        "        return self.layer_3(self.layer_2(self.layer_1(x)))\n",
        "\n",
        "model_2 = classificationModelV2().to(device)\n",
        "model_2"
      ],
      "metadata": {
        "id": "sLeDNzFzlFjQ"
      },
      "execution_count": null,
      "outputs": []
    },
    {
      "cell_type": "code",
      "source": [
        "# loss_fn = nn.BCELoss() # Requires sigmoid on input\n",
        "loss_fn = nn.BCEWithLogitsLoss() # Does not require sigmoid on input\n",
        "optimizer = torch.optim.SGD(model_1.parameters(), lr=0.1)"
      ],
      "metadata": {
        "id": "qptwonbOlkPS"
      },
      "execution_count": null,
      "outputs": []
    },
    {
      "cell_type": "code",
      "source": [
        "torch.manual_seed(42)\n",
        "\n",
        "epochs = 1000 # Train for longer\n",
        "\n",
        "# Put data to target device\n",
        "X_train, y_train = X_train.to(device), y_train.to(device)\n",
        "X_test, y_test = X_test.to(device), y_test.to(device)\n",
        "\n",
        "for epoch in range(epochs):\n",
        "    ### Training\n",
        "    # 1. Forward pass\n",
        "    y_logits = model_1(X_train).squeeze()\n",
        "    y_pred = torch.round(torch.sigmoid(y_logits)) # logits -> predicition probabilities -> prediction labels\n",
        "\n",
        "    # 2. Calculate loss/accuracy\n",
        "    loss = loss_fn(y_logits, y_train)\n",
        "    acc = calculate_accuracy(y_true=y_train,\n",
        "                      y_pred=y_pred)\n",
        "\n",
        "    # 3. Optimizer zero grad\n",
        "    optimizer.zero_grad()\n",
        "\n",
        "    # 4. Loss backwards\n",
        "    loss.backward()\n",
        "\n",
        "    # 5. Optimizer step\n",
        "    optimizer.step()\n",
        "\n",
        "    ### Testing\n",
        "    model_1.eval()\n",
        "    with torch.inference_mode():\n",
        "        # 1. Forward pass\n",
        "        test_logits = model_1(X_test).squeeze()\n",
        "        test_pred = torch.round(torch.sigmoid(test_logits))\n",
        "        # 2. Caculate loss/accuracy\n",
        "        test_loss = loss_fn(test_logits,\n",
        "                            y_test)\n",
        "        test_acc = calculate_accuracy(y_true=y_test,\n",
        "                               y_pred=test_pred)\n",
        "\n",
        "    # Print out what's happening every 10 epochs\n",
        "    if epoch % 100 == 0:\n",
        "        print(f\"Epoch: {epoch} | Loss: {loss:.5f}, Accuracy: {acc:.2f}% | Test loss: {test_loss:.5f}, Test acc: {test_acc:.2f}%\")\n"
      ],
      "metadata": {
        "id": "zlQX3OrKlr4u"
      },
      "execution_count": null,
      "outputs": []
    },
    {
      "cell_type": "markdown",
      "source": [
        "\n",
        "Despite extending the training duration and adding an additional layer to our model, it appears that the learning patterns have not improved significantly, as evidenced by the visualizations."
      ],
      "metadata": {
        "id": "pZW-O1aSmGUU"
      }
    },
    {
      "cell_type": "code",
      "source": [
        "  # Plot decision boundaries for training and test sets\n",
        "plt.figure(figsize=(12, 6))\n",
        "plt.subplot(1, 2, 1)\n",
        "plt.title(\"Train\")\n",
        "plot_decision_boundary(model_2, X_train, y_train)\n",
        "plt.subplot(1, 2, 2)\n",
        "plt.title(\"Test\")\n",
        "plot_decision_boundary(model_2, X_test, y_test)"
      ],
      "metadata": {
        "id": "60Aeqkk9m23X"
      },
      "execution_count": null,
      "outputs": []
    },
    {
      "cell_type": "markdown",
      "source": [
        "> **OUR MODEL IS STILL DRAWING A STRAIGHT LINE BETWEEN THE RED AND BLUE DOTS.**\n",
        ">\n",
        "> **If Our Model Is Drawing a Straight Line, Could It Model Linear Data? Like We Did in** [Notebook 2](https://colab.research.google.com/github/mhamzaraheel/pytorch_DeepLearning/blob/main/NooteBooks/2_pytorch_workflow.ipynb#scrollTo=QaOi9y-8n0p9)?"
      ],
      "metadata": {
        "id": "Lyemxlogm5pM"
      }
    },
    {
      "cell_type": "markdown",
      "source": [
        "### 6.2 Preparing Liner Data to see if our model can model a straight line.\n",
        "Let's generate a set of linear data to test our model's ability to effectively capture and represent patterns, ensuring that we are utilizing a model capable of learning and adapting."
      ],
      "metadata": {
        "id": "zbpF7EeonLzY"
      }
    },
    {
      "cell_type": "code",
      "source": [
        "# Create some data (same as notebook 01)\n",
        "weight = 0.7\n",
        "bias = 0.3\n",
        "start = 0\n",
        "end = 1\n",
        "step = 0.01\n",
        "\n",
        "# Create data\n",
        "X_regression = torch.arange(start, end, step).unsqueeze(dim=1)\n",
        "y_regression = weight * X_regression + bias # linear regression formula\n",
        "\n",
        "# Check the data\n",
        "print(len(X_regression))\n",
        "X_regression[:5], y_regression[:5]"
      ],
      "metadata": {
        "id": "Lh8S8JmJn_p3"
      },
      "execution_count": null,
      "outputs": []
    },
    {
      "cell_type": "code",
      "source": [
        "# Train and Test Split\n",
        "train_split = int(0.8 * len(X_regression)) # 80% of data used for training set\n",
        "X_train_regression, y_train_regression = X_regression[:train_split], y_regression[:train_split]\n",
        "X_test_regression, y_test_regression = X_regression[train_split:], y_regression[train_split:]\n",
        "\n",
        "# Check the lengths of each split\n",
        "len(X_train_regression), len(y_train_regression), len(X_test_regression), len(y_test_regression)"
      ],
      "metadata": {
        "id": "PVw9EEsIoSPJ"
      },
      "execution_count": null,
      "outputs": []
    },
    {
      "cell_type": "code",
      "source": [
        "def plot_predictions(train_data, train_labels, test_data, test_labels ,predictions= None):\n",
        "  \"\"\"\n",
        "  Plot the traing and testing data and then Comares the prediction with true labels\n",
        "  \"\"\"\n",
        "  plt.figure(figsize = (8,5))\n",
        "\n",
        "  # Plot the traing data\n",
        "  plt.scatter(train_data,train_labels, c= \"b\",  s = 4, label = \"Traing Data\")\n",
        "\n",
        "  # plot the testing data\n",
        "  plt.scatter(test_data,test_labels , c= \"g\" , s = 4 , label = \"Testing Data\")\n",
        "\n",
        "\n",
        "  if predictions != None:\n",
        "    # plot the predictions\n",
        "    plt.scatter(test_data,predictions , c= \"r\" , s = 4 , label = \"Predictions\")\n",
        "\n",
        "\n",
        "  # Show the legend\n",
        "  plt.legend(prop={\"size\": 10});\n",
        "\n",
        "  # 0306-1062832\n"
      ],
      "metadata": {
        "id": "pDDvn1klp1X3"
      },
      "execution_count": null,
      "outputs": []
    },
    {
      "cell_type": "code",
      "source": [
        "# Let's visualize the data\n",
        "plot_predictions(train_data=X_train_regression,\n",
        "    train_labels=y_train_regression,\n",
        "    test_data=X_test_regression,\n",
        "    test_labels=y_test_regression\n",
        ");"
      ],
      "metadata": {
        "id": "MQUvtc3Vp3Uv"
      },
      "execution_count": null,
      "outputs": []
    },
    {
      "cell_type": "markdown",
      "source": [
        "### 6.2 Adjusting `model_2` to fit a straight line\n",
        "\n",
        "Now we've got some data, let's recreate `model_2` but with a loss function suited to our regression data."
      ],
      "metadata": {
        "id": "R26qRFEdq0Wn"
      }
    },
    {
      "cell_type": "code",
      "source": [
        "# Same architecture as model_2 (but using nn.Sequential)\n",
        "model_3 = nn.Sequential(\n",
        "    nn.Linear(in_features=1, out_features=10),\n",
        "    nn.Linear(in_features=10, out_features=10),\n",
        "    nn.Linear(in_features=10, out_features=1)\n",
        ").to(device)\n",
        "\n",
        "model_3"
      ],
      "metadata": {
        "id": "pEElBxhhoYFt"
      },
      "execution_count": null,
      "outputs": []
    },
    {
      "cell_type": "code",
      "source": [
        "# Loss and optimizer\n",
        "loss_fn = nn.L1Loss()\n",
        "optimizer = torch.optim.SGD(model_3.parameters(), lr=0.1)"
      ],
      "metadata": {
        "id": "VXyUR5drox6c"
      },
      "execution_count": null,
      "outputs": []
    },
    {
      "cell_type": "code",
      "source": [
        "# Train the model\n",
        "torch.manual_seed(42)\n",
        "\n",
        "# Set the number of epochs\n",
        "epochs = 1000\n",
        "\n",
        "# Put data to target device\n",
        "X_train_regression, y_train_regression = X_train_regression.to(device), y_train_regression.to(device)\n",
        "X_test_regression, y_test_regression = X_test_regression.to(device), y_test_regression.to(device)\n",
        "\n",
        "for epoch in range(epochs):\n",
        "    ### Training\n",
        "    # 1. Forward pass\n",
        "    y_pred = model_3(X_train_regression)\n",
        "\n",
        "    # 2. Calculate loss (no accuracy since it's a regression problem, not classification)\n",
        "    loss = loss_fn(y_pred, y_train_regression)\n",
        "\n",
        "    # 3. Optimizer zero grad\n",
        "    optimizer.zero_grad()\n",
        "\n",
        "    # 4. Loss backwards\n",
        "    loss.backward()\n",
        "\n",
        "    # 5. Optimizer step\n",
        "    optimizer.step()\n",
        "\n",
        "    ### Testing\n",
        "    model_3.eval()\n",
        "    with torch.inference_mode():\n",
        "      # 1. Forward pass\n",
        "      test_pred = model_3(X_test_regression)\n",
        "      # 2. Calculate the loss\n",
        "      test_loss = loss_fn(test_pred, y_test_regression)\n",
        "\n",
        "    # Print out what's happening\n",
        "    if epoch % 100 == 0:\n",
        "        print(f\"Epoch: {epoch} | Train loss: {loss:.5f}, Test loss: {test_loss:.5f}\")"
      ],
      "metadata": {
        "id": "9N1FvkqKozf-"
      },
      "execution_count": null,
      "outputs": []
    },
    {
      "cell_type": "code",
      "source": [
        "# Let's visualize the data and predictions\n",
        "# Turn on evaluation mode\n",
        "model_3.eval()\n",
        "\n",
        "# Make predictions (inference)\n",
        "with torch.inference_mode():\n",
        "    y_preds = model_3(X_test_regression)\n",
        "\n",
        "# Plot data and predictions with data on the CPU (matplotlib can't handle data on the GPU)\n",
        "# (try removing .cpu() from one of the below and see what happens)\n",
        "plot_predictions(train_data=X_train_regression.cpu(),\n",
        "                 train_labels=y_train_regression.cpu(),\n",
        "                 test_data=X_test_regression.cpu(),\n",
        "                 test_labels=y_test_regression.cpu(),\n",
        "                 predictions=y_preds.cpu());"
      ],
      "metadata": {
        "id": "ac8XF8_apNQA"
      },
      "execution_count": null,
      "outputs": []
    },
    {
      "cell_type": "markdown",
      "source": [
        "This means that our model is working on the straight line , insted of random guessing .\n",
        "\n",
        "Now We have to figure out what is the problem with out model that is not training on the Circle data set.\n",
        "\n",
        "Let's find the cause of **Underfitting**"
      ],
      "metadata": {
        "id": "Z3138Ikoo7Rz"
      }
    },
    {
      "cell_type": "markdown",
      "source": [
        "\n",
        "## 7.Introducing Non-Linearity\n",
        "While our model has demonstrated the ability to depict straight (linear) lines through its linear layers, it's time to empower it with the capability to draw non-straight (non-linear) lines.\n",
        "\n",
        "How can we achieve this?\n",
        "\n",
        "Let's explore the solution."
      ],
      "metadata": {
        "id": "OyG-5hRsthVl"
      }
    },
    {
      "cell_type": "markdown",
      "source": [
        "### 7.1 Generating Non-linear Data\n",
        "\n",
        "To begin anew, let's recreate the dataset with the same configuration as previously used."
      ],
      "metadata": {
        "id": "F8Qgjgb57c1t"
      }
    },
    {
      "cell_type": "code",
      "source": [
        "import matplotlib.pyplot as plt\n",
        "from sklearn.datasets import make_circles\n",
        "\n",
        "# Number of samples we want to generate\n",
        "n_samples = 1000\n",
        "\n",
        "# making the data (Circle data set)\n",
        "X,y = make_circles(n_samples=n_samples, noise=0.03, random_state=42)\n",
        "\n",
        "\n",
        "# Plot the data visualization\n",
        "plt.scatter(\n",
        "    X[:,0],\n",
        "    X[:,1],\n",
        "    c=y,\n",
        "    cmap=plt.cm.RdBu\n",
        ")"
      ],
      "metadata": {
        "id": "WE5oA-3q80Z4"
      },
      "execution_count": null,
      "outputs": []
    },
    {
      "cell_type": "markdown",
      "source": [
        "Split it into training and test sets using 80% of the data for training and 20% for testing."
      ],
      "metadata": {
        "id": "vSKaNAnA9ByF"
      }
    },
    {
      "cell_type": "code",
      "source": [
        "# Covert the data to tensor and then split into train and test\n",
        "\n",
        "import torch\n",
        "from sklearn.model_selection import train_test_split\n",
        "\n",
        "# Turn the data into torch tensors\n",
        "\n",
        "X = torch.from_numpy(X).type(dtype = torch.float)\n",
        "y = torch.from_numpy(y).type(dtype = torch.float)\n",
        "\n",
        "X_train, X_test , y_train , y_test = train_test_split(X,\n",
        "                                                      y,\n",
        "                                                      test_size=0.2,\n",
        "                                                      random_state=41)\n",
        "\n",
        "len(X_train), len(X_test), len(y_train), len(y_test)"
      ],
      "metadata": {
        "id": "eNja-f52-h7m"
      },
      "execution_count": null,
      "outputs": []
    },
    {
      "cell_type": "markdown",
      "source": [
        "### 7.2 Building a Model With Non-Linearity\n",
        "\n",
        "As we know thw data we've been working with is non-linear (circles).\n",
        "\n",
        "We need to introduce the **non-linear actviation functions**.\n",
        "\n",
        "PyTorch has a bunch of [ready-made non-linear activation functions](https://pytorch.org/docs/stable/nn.html#non-linear-activations-weighted-sum-nonlinearity) that do similiar but different things.\n",
        "\n",
        "One of the most common and best performing is [ReLU](https://en.wikipedia.org/wiki/Rectifier_(neural_networks) (rectified linear-unit, [`torch.nn.ReLU()`](https://pytorch.org/docs/stable/generated/torch.nn.ReLU.html)).\n",
        "\n",
        "\n"
      ],
      "metadata": {
        "id": "bf_ed8tY_ULv"
      }
    },
    {
      "cell_type": "code",
      "source": [
        "# Build model with non-linear activation function\n",
        "from torch import nn\n",
        "class classificationModelV3(nn.Module):\n",
        "    def __init__(self):\n",
        "        super().__init__()\n",
        "        self.layer_1 = nn.Linear(in_features=2, out_features=10)\n",
        "        self.layer_2 = nn.Linear(in_features=10, out_features=10)\n",
        "        self.layer_3 = nn.Linear(in_features=10, out_features=1)\n",
        "        self.relu = nn.ReLU() # <- add in ReLU activation function\n",
        "        # Can also put sigmoid in the model\n",
        "        # self.sigmoid = nn.Sigmoid()       # We don't need to put in the prediction\n",
        "\n",
        "    def forward(self, x):\n",
        "      # Using the ReLU activation function between layers\n",
        "       return self.layer_3(self.relu(self.layer_2(self.relu(self.layer_1(x)))))\n",
        "\n",
        "model_3 = classificationModelV3().to(device)\n",
        "print(model_3)"
      ],
      "metadata": {
        "id": "654SykNdAbpW"
      },
      "execution_count": null,
      "outputs": []
    },
    {
      "cell_type": "code",
      "source": [
        "# Setup loss and optimizer\n",
        "loss_fn = nn.BCEWithLogitsLoss()\n",
        "optimizer = torch.optim.SGD(model_3.parameters(), lr=0.1)"
      ],
      "metadata": {
        "id": "sg4awLIFEh_b"
      },
      "execution_count": null,
      "outputs": []
    },
    {
      "cell_type": "markdown",
      "source": [
        "### 7.3 Training a Model\n",
        "\n",
        "You know the drill, model, loss function, optimizer ready to go, let's create a training and testing loop."
      ],
      "metadata": {
        "id": "kQw8CnuNEpV3"
      }
    },
    {
      "cell_type": "code",
      "source": [
        "# Fit the model\n",
        "torch.manual_seed(42)\n",
        "epochs = 1000\n",
        "\n",
        "# Put all data on target device\n",
        "X_train, y_train = X_train.to(device), y_train.to(device)\n",
        "X_test, y_test = X_test.to(device), y_test.to(device)\n",
        "\n",
        "for epoch in range(epochs):\n",
        "    # 1. Forward pass\n",
        "    model_3.train()\n",
        "    y_logits = model_3(X_train).squeeze()\n",
        "    y_pred = torch.round(torch.sigmoid(y_logits)) # logits -> prediction probabilities -> prediction labels\n",
        "\n",
        "    # 2. Calculate loss and accuracy\n",
        "    loss = loss_fn(y_logits, y_train) # BCEWithLogitsLoss calculates loss using logits\n",
        "    acc = calculate_accuracy(y_true=y_train,\n",
        "                      y_pred=y_pred)\n",
        "\n",
        "    # 3. Optimizer zero grad\n",
        "    optimizer.zero_grad()\n",
        "\n",
        "    # 4. Loss backward\n",
        "    loss.backward()\n",
        "\n",
        "    # 5. Optimizer step\n",
        "    optimizer.step()\n",
        "\n",
        "    ### Testing\n",
        "    model_3.eval()\n",
        "    with torch.inference_mode():\n",
        "      # 1. Forward pass\n",
        "      test_logits = model_3(X_test).squeeze()\n",
        "      test_pred = torch.round(torch.sigmoid(test_logits)) # logits -> prediction probabilities -> prediction labels\n",
        "      # 2. Calcuate loss and accuracy\n",
        "      test_loss = loss_fn(test_logits, y_test)\n",
        "      test_acc = calculate_accuracy(y_true=y_test,\n",
        "                             y_pred=test_pred)\n",
        "\n",
        "    # Print out what's happening\n",
        "    if epoch % 100 == 0:\n",
        "        print(f\"Epoch: {epoch} | Loss: {loss:.5f}, Accuracy: {acc:.2f}% | Test Loss: {test_loss:.5f}, Test Accuracy: {test_acc:.2f}%\")"
      ],
      "metadata": {
        "id": "QVQNWH9wGgk6"
      },
      "execution_count": null,
      "outputs": []
    },
    {
      "cell_type": "markdown",
      "source": [
        "### 7.4 Evaluating a Trained Model\n",
        "Remember how our circle data is non-linear? Well, let's see how our models predictions look now the model's been trained with non-linear activation functions."
      ],
      "metadata": {
        "id": "FYk_GTJmIois"
      }
    },
    {
      "cell_type": "code",
      "source": [
        "# Make predictions\n",
        "model_3.eval()\n",
        "with torch.inference_mode():\n",
        "    y_preds = torch.round(torch.sigmoid(model_3(X_test))).squeeze()\n",
        "y_preds[:10], y[:10] # want preds in same format as truth labels"
      ],
      "metadata": {
        "id": "bYhaLdyEI5e3"
      },
      "execution_count": null,
      "outputs": []
    },
    {
      "cell_type": "code",
      "source": [
        "# Plot decision boundaries for training and test sets\n",
        "plt.figure(figsize=(12, 6))\n",
        "plt.subplot(1, 2, 1)\n",
        "plt.title(\"Train\")\n",
        "plot_decision_boundary(model_1, X_train, y_train) # model_1 = no non-linearity\n",
        "plt.subplot(1, 2, 2)\n",
        "plt.title(\"Test\")\n",
        "plot_decision_boundary(model_3, X_test, y_test) # model_3 = has non-linearity"
      ],
      "metadata": {
        "id": "TCepLxEaJjLs"
      },
      "execution_count": null,
      "outputs": []
    },
    {
      "cell_type": "markdown",
      "source": [
        "## 8.Multiclass Pytorch Model\n",
        "\n",
        "\n",
        "In a **binary classification** problem, you're deciding between two things. For instance, looking at a picture and saying if it's either a cat or a dog.\n",
        "\n",
        "On the other hand, in a **multi-class classification** problem, you have more than two options to choose from. Imagine looking at a picture and figuring out if it's a cat, a dog, or maybe even a chicken.\n",
        "\n",
        "*So, to sum it up, binary is like choosing between two things, while multi-class means picking from a list that has more than two options. for example, the popular [ImageNet-1k dataset](https://www.image-net.org/) is used as a computer vision benchmark and has 1000 classes.*\n"
      ],
      "metadata": {
        "id": "DAg2-CxaJmQ_"
      }
    },
    {
      "cell_type": "markdown",
      "source": [
        "### 8.1 Creating mutli-class classification data\n",
        "\n",
        "To begin a multi-class classification problem, let's create some multi-class data.\n",
        "\n",
        "To do so, we can leverage Scikit-Learn's [`make_blobs()`](https://scikit-learn.org/stable/modules/generated/sklearn.datasets.make_blobs.html) method.\n",
        "\n",
        "\n",
        "Specifically, let's do the following:\n",
        "\n",
        "1. Create some multi-class data with `make_blobs()`.\n",
        "2. Turn the data into tensors (the default of `make_blobs()` is to use NumPy arrays).\n",
        "3. Split the data into training and test sets using `train_test_split()`.\n",
        "4. Visualize the data."
      ],
      "metadata": {
        "id": "FaGWqGPRKO89"
      }
    },
    {
      "cell_type": "code",
      "source": [
        "import torch\n",
        "import matplotlib.pyplot as plt\n",
        "from sklearn.datasets import make_blobs\n",
        "from sklearn.model_selection import train_test_split\n",
        "\n",
        "\n",
        "# set the parameters for creating the data\n",
        "NUM_CLASSSES = 4      # y labesl\n",
        "NUM_FEATURES = 2      # features of X\n",
        "RANDOM_SEED = 42\n",
        "\n",
        "\n",
        "# 1.creating the data\n",
        "\n",
        "X, y = make_blobs(\n",
        "    n_samples=1000,\n",
        "    n_features=NUM_FEATURES,\n",
        "    cluster_std=1.5, # give the clusters a little shake up (try changing this to 1.0, the default)\n",
        "    centers = NUM_CLASSSES,\n",
        "    random_state=RANDOM_SEED\n",
        ")\n",
        "\n",
        "# 2.turn the data into tensors\n",
        "X = torch.from_numpy(X).type(torch.float)\n",
        "y = torch.from_numpy(y).type(torch.LongTensor)\n",
        "\n",
        "\n",
        "\n",
        "# 3. Split into train and test sets\n",
        "X_train, X_test, y_train, y_test = train_test_split(X,\n",
        "    y,\n",
        "    test_size=0.2,\n",
        "    random_state=RANDOM_SEED\n",
        ")\n",
        "\n",
        "# 4. Plot data\n",
        "plt.figure(figsize=(10, 7))\n",
        "plt.scatter(X[:, 0], X[:, 1], c=y, cmap=plt.cm.RdYlBu);\n"
      ],
      "metadata": {
        "colab": {
          "base_uri": "https://localhost:8080/",
          "height": 599
        },
        "id": "WlfxRP-DLDoy",
        "outputId": "021f9b34-96d9-4fa6-9d8b-f93384a2e3dd"
      },
      "execution_count": 103,
      "outputs": [
        {
          "output_type": "display_data",
          "data": {
            "text/plain": [
              "<Figure size 1000x700 with 1 Axes>"
            ],
            "image/png": "[encoded data removed]"
          },
          "metadata": {}
        }
      ]
    },
    {
      "cell_type": "markdown",
      "source": [
        "### 8.2 Building a Multi-Class Classification Model\n",
        "\n",
        "\n",
        "\n",
        "Let's create a subclass of `nn.Module` a BlobModel\n",
        "\n"
      ],
      "metadata": {
        "id": "BKrGVEBCMWwD"
      }
    },
    {
      "cell_type": "code",
      "source": [
        "from torch import nn\n",
        "\n",
        "# Build model\n",
        "class BlobModel(nn.Module):\n",
        "    def __init__(self):\n",
        "        super().__init__()\n",
        "        self.linear_layer_stack = nn.Sequential(\n",
        "            nn.Linear(in_features=2, out_features=8),\n",
        "            # nn.ReLU(), # <- does our dataset require non-linear layers? (try uncommenting and see if the results change)\n",
        "            nn.Linear(in_features=8, out_features=8),\n",
        "            # nn.ReLU(), # <- does our dataset require non-linear layers? (try uncommenting and see if the results change)\n",
        "            nn.Linear(in_features=8, out_features=4),\n",
        "        )\n",
        "\n",
        "    def forward(self, x):\n",
        "        return self.linear_layer_stack(x)\n",
        "\n",
        "# Create an instance of Blob Model and send it to the target device\n",
        "model_4 = BlobModel()\n",
        "model_4"
      ],
      "metadata": {
        "colab": {
          "base_uri": "https://localhost:8080/"
        },
        "id": "DY5sf3YFUYXk",
        "outputId": "b8ad41da-d8be-4538-bd92-cf3c00e1f79a"
      },
      "execution_count": 112,
      "outputs": [
        {
          "output_type": "execute_result",
          "data": {
            "text/plain": [
              "BlobModel(\n",
              "  (linear_layer_stack): Sequential(\n",
              "    (0): Linear(in_features=2, out_features=8, bias=True)\n",
              "    (1): Linear(in_features=8, out_features=8, bias=True)\n",
              "    (2): Linear(in_features=8, out_features=4, bias=True)\n",
              "  )\n",
              ")"
            ]
          },
          "metadata": {},
          "execution_count": 112
        }
      ]
    },
    {
      "cell_type": "markdown",
      "source": [
        "### 8.3 Creating Loss Function and Optimizer\n",
        "\n",
        "* Since we're working on a multi-class classification problem, we'll use the `nn.CrossEntropyLoss()` method as our loss function.\n",
        "\n",
        "* And we'll stick with using SGD with a learning rate of 0.1 for optimizing our `model_4` parameters.\n"
      ],
      "metadata": {
        "id": "B_H0qqYKU0Ts"
      }
    },
    {
      "cell_type": "code",
      "source": [
        "# Create loss and optimizer\n",
        "loss_fn = nn.CrossEntropyLoss()\n",
        "optimizer = torch.optim.SGD(model_4.parameters(),\n",
        "                            lr=0.1)"
      ],
      "metadata": {
        "id": "BEIjlSLyVHtg"
      },
      "execution_count": 113,
      "outputs": []
    },
    {
      "cell_type": "markdown",
      "source": [
        "### 8.4 Getting Prediction Probabilities\n",
        "\n",
        "Let's do a single forward pass with our model to see if it works."
      ],
      "metadata": {
        "id": "bFkmFupfVxdc"
      }
    },
    {
      "cell_type": "code",
      "source": [
        "model_4(X_train.to(device))[:5]"
      ],
      "metadata": {
        "colab": {
          "base_uri": "https://localhost:8080/"
        },
        "id": "-vH9qHOHV8b4",
        "outputId": "9d341c03-79a4-4e64-8a24-9a41150761ed"
      },
      "execution_count": 114,
      "outputs": [
        {
          "output_type": "execute_result",
          "data": {
            "text/plain": [
              "tensor([[-1.2711, -0.6494, -1.4740, -0.7044],\n",
              "        [ 0.2210, -1.5439,  0.0420,  1.1531],\n",
              "        [ 2.8698,  0.9143,  3.3169,  1.4027],\n",
              "        [ 1.9576,  0.3125,  2.2244,  1.1324],\n",
              "        [ 0.5458, -1.2381,  0.4441,  1.1804]], grad_fn=<SliceBackward0>)"
            ]
          },
          "metadata": {},
          "execution_count": 114
        }
      ]
    },
    {
      "cell_type": "markdown",
      "source": [
        "Our model is outputing logits but what if we wanted to figure out exactly which label is was giving the sample?\n",
        "\n",
        "As in, how do we go from `logits -> prediction probabilities -> prediction labels` just like we did with the binary classification problem?\n",
        "\n",
        "That's where the [softmax activation function](https://en.wikipedia.org/wiki/Softmax_function) comes into play.\n"
      ],
      "metadata": {
        "id": "obQJRntyVTzb"
      }
    },
    {
      "cell_type": "code",
      "source": [
        "# Make prediction logits with model\n",
        "y_logits = model_4(X_test.to(device))\n",
        "\n",
        "# Perform softmax calculation on logits to get prediction probabilities\n",
        "y_pred_probs = torch.softmax(y_logits, dim=1)\n",
        "print(y_logits[:5])\n",
        "print(y_pred_probs[:5])"
      ],
      "metadata": {
        "colab": {
          "base_uri": "https://localhost:8080/"
        },
        "id": "vyRU1gbQWoFI",
        "outputId": "9ac7d707-b9dc-493c-c99f-52d2316007dd"
      },
      "execution_count": 116,
      "outputs": [
        {
          "output_type": "stream",
          "name": "stdout",
          "text": [
            "tensor([[-1.2549, -0.8112, -1.4795, -0.5696],\n",
            "        [ 1.7168, -1.2270,  1.7367,  2.1010],\n",
            "        [ 2.2400,  0.7714,  2.6020,  1.0107],\n",
            "        [-0.7993, -0.3723, -0.9138, -0.5388],\n",
            "        [-0.4332, -1.6117, -0.6891,  0.6852]], grad_fn=<SliceBackward0>)\n",
            "tensor([[0.1872, 0.2918, 0.1495, 0.3715],\n",
            "        [0.2824, 0.0149, 0.2881, 0.4147],\n",
            "        [0.3380, 0.0778, 0.4854, 0.0989],\n",
            "        [0.2118, 0.3246, 0.1889, 0.2748],\n",
            "        [0.1945, 0.0598, 0.1506, 0.5951]], grad_fn=<SliceBackward0>)\n"
          ]
        }
      ]
    },
    {
      "cell_type": "code",
      "source": [
        "# Sum the first sample output of the softmax activation function\n",
        "torch.sum(y_pred_probs[0])"
      ],
      "metadata": {
        "colab": {
          "base_uri": "https://localhost:8080/"
        },
        "id": "SvS643jlYhQf",
        "outputId": "9aabad06-7f38-409f-bbc7-13dd292cc49b"
      },
      "execution_count": 117,
      "outputs": [
        {
          "output_type": "execute_result",
          "data": {
            "text/plain": [
              "tensor(1., grad_fn=<SumBackward0>)"
            ]
          },
          "metadata": {},
          "execution_count": 117
        }
      ]
    },
    {
      "cell_type": "code",
      "source": [
        "# Which class does the model think is *most* likely at the index 0 sample?\n",
        "print(y_pred_probs[0])\n",
        "print(torch.argmax(y_pred_probs[0]))"
      ],
      "metadata": {
        "colab": {
          "base_uri": "https://localhost:8080/"
        },
        "id": "cnieRpkHYv6e",
        "outputId": "23774827-ef74-4b3e-b897-b56fb6f7b219"
      },
      "execution_count": 118,
      "outputs": [
        {
          "output_type": "stream",
          "name": "stdout",
          "text": [
            "tensor([0.1872, 0.2918, 0.1495, 0.3715], grad_fn=<SelectBackward0>)\n",
            "tensor(3)\n"
          ]
        }
      ]
    },
    {
      "cell_type": "markdown",
      "source": [
        "The output from `torch.argmax()` indicates a prediction of class 3 for the features (`X`) of the sample at index 0. At this stage, the model's predictions are essentially random, with a 25% chance of accuracy due to the four available classes. However, training the model can enhance its predictive accuracy.\n",
        "\n",
        "> It's important to note that the raw output from the model is termed as **logits**.\n",
        ">\n",
        ">In the context of a multi-class classification problem, these logits can be transformed into **prediction probabilities** using the softmax activation function (`torch.softmax`).\n",
        ">\n",
        ">The index corresponding to the highest **prediction probability** signifies the class that the model deems most likely, based on the input features of that particular sample. It's crucial to understand that while this is a prediction, it does not guarantee correctness."
      ],
      "metadata": {
        "id": "Gl30ADIfY1uR"
      }
    },
    {
      "cell_type": "markdown",
      "source": [
        "### 8.5 Creating a Training and Testing Loop\n",
        "\n",
        "\n",
        "We've done many of these steps before.\n",
        "\n",
        "The only difference is that we'll be adjusting the steps to turn the model outputs (logits) to prediction probabilities (using the softmax activation function) and then to prediction labels (by taking the argmax of the output of the softmax activation function)."
      ],
      "metadata": {
        "id": "qw-FzYFTZdNK"
      }
    },
    {
      "cell_type": "code",
      "source": [
        "# Fit the model\n",
        "torch.manual_seed(42)\n",
        "\n",
        "# Set number of epochs\n",
        "epochs = 100\n",
        "\n",
        "# Put data to target device\n",
        "X_train, y_train = X_train.to(device), y_train.to(device)\n",
        "X_test, y_test = X_test.to(device), y_test.to(device)\n",
        "\n",
        "for epoch in range(epochs):\n",
        "    ### Training\n",
        "    model_4.train()\n",
        "\n",
        "    # 1. Forward pass\n",
        "    y_logits = model_4(X_train) # model outputs raw logits\n",
        "    y_pred = torch.softmax(y_logits, dim=1).argmax(dim=1) # go from logits -> prediction probabilities -> prediction labels\n",
        "    # 2. Calculate loss and accuracy\n",
        "    loss = loss_fn(y_logits, y_train)\n",
        "    acc = calculate_accuracy(y_true=y_train,\n",
        "                      y_pred=y_pred)\n",
        "\n",
        "    # 3. Optimizer zero grad\n",
        "    optimizer.zero_grad()\n",
        "\n",
        "    # 4. Loss backwards\n",
        "    loss.backward()\n",
        "\n",
        "    # 5. Optimizer step\n",
        "    optimizer.step()\n",
        "\n",
        "    ### Testing\n",
        "    model_4.eval()\n",
        "    with torch.inference_mode():\n",
        "      # 1. Forward pass\n",
        "      test_logits = model_4(X_test)\n",
        "      test_pred = torch.softmax(test_logits, dim=1).argmax(dim=1)\n",
        "      # 2. Calculate test loss and accuracy\n",
        "      test_loss = loss_fn(test_logits, y_test)\n",
        "      test_acc = calculate_accuracy(y_true=y_test,\n",
        "                             y_pred=test_pred)\n",
        "\n",
        "    # Print out what's happening\n",
        "    if epoch % 10 == 0:\n",
        "        print(f\"Epoch: {epoch} | Loss: {loss:.5f}, Acc: {acc:.2f}% | Test Loss: {test_loss:.5f}, Test Acc: {test_acc:.2f}%\")"
      ],
      "metadata": {
        "colab": {
          "base_uri": "https://localhost:8080/"
        },
        "id": "K4k1zqDcZoxE",
        "outputId": "68ef1e31-3f0f-4d18-a476-08ec62ba860a"
      },
      "execution_count": 125,
      "outputs": [
        {
          "output_type": "stream",
          "name": "stdout",
          "text": [
            "Epoch: 0 | Loss: 0.03165, Acc: 99.12% | Test Loss: 0.02270, Test Acc: 99.50%\n",
            "Epoch: 10 | Loss: 0.03076, Acc: 99.12% | Test Loss: 0.02167, Test Acc: 99.50%\n",
            "Epoch: 20 | Loss: 0.03004, Acc: 99.12% | Test Loss: 0.02081, Test Acc: 99.50%\n",
            "Epoch: 30 | Loss: 0.02943, Acc: 99.12% | Test Loss: 0.02008, Test Acc: 99.50%\n",
            "Epoch: 40 | Loss: 0.02893, Acc: 99.12% | Test Loss: 0.01946, Test Acc: 99.50%\n",
            "Epoch: 50 | Loss: 0.02849, Acc: 99.12% | Test Loss: 0.01891, Test Acc: 99.50%\n",
            "Epoch: 60 | Loss: 0.02812, Acc: 99.12% | Test Loss: 0.01843, Test Acc: 99.50%\n",
            "Epoch: 70 | Loss: 0.02779, Acc: 99.12% | Test Loss: 0.01801, Test Acc: 99.50%\n",
            "Epoch: 80 | Loss: 0.02750, Acc: 99.12% | Test Loss: 0.01763, Test Acc: 99.50%\n",
            "Epoch: 90 | Loss: 0.02725, Acc: 99.12% | Test Loss: 0.01729, Test Acc: 99.50%\n"
          ]
        }
      ]
    },
    {
      "cell_type": "markdown",
      "source": [
        "### 8.6 Making and Evaluating Predictions\n",
        "It looks like our trained model is performaning pretty well.\n",
        "\n",
        "But to make sure of this, let's make some predictions and visualize them."
      ],
      "metadata": {
        "id": "HcIkKgx1bthB"
      }
    },
    {
      "cell_type": "code",
      "source": [
        "# Make predictions\n",
        "model_4.eval()\n",
        "with torch.inference_mode():\n",
        "    y_logits = model_4(X_test)\n",
        "\n",
        "# View the first 10 predictions\n",
        "y_logits[:10]"
      ],
      "metadata": {
        "colab": {
          "base_uri": "https://localhost:8080/"
        },
        "id": "dNtTJ48KfJSe",
        "outputId": "16f4447a-8818-4c63-c154-045e00ed25c2"
      },
      "execution_count": 128,
      "outputs": [
        {
          "output_type": "execute_result",
          "data": {
            "text/plain": [
              "tensor([[  5.4577,  13.0817, -17.8683, -11.7818],\n",
              "        [  5.9031, -15.2376,   4.2644,  12.8335],\n",
              "        [ -7.2440, -16.6695,  25.0019,  15.2145],\n",
              "        [  2.3171,   9.6019, -10.3886,  -8.4814],\n",
              "        [  9.9572,   4.0748, -17.3209,  -4.3290],\n",
              "        [  6.5578, -18.9345,   6.2648,  15.9954],\n",
              "        [ -7.6658, -12.6750,  22.4148,  11.7734],\n",
              "        [  8.6519,  -1.0250, -11.2713,   0.2233],\n",
              "        [ -7.3400, -23.3115,  30.4916,  21.0050],\n",
              "        [  8.9734,   0.8407, -13.2520,  -1.4286]])"
            ]
          },
          "metadata": {},
          "execution_count": 128
        }
      ]
    },
    {
      "cell_type": "code",
      "source": [
        "# Turn predicted logits in prediction probabilities\n",
        "y_pred_probs = torch.softmax(y_logits, dim=1)\n",
        "\n",
        "# Turn prediction probabilities into prediction labels\n",
        "y_preds = y_pred_probs.argmax(dim=1)\n",
        "\n",
        "# Compare first 10 model preds and test labels\n",
        "print(f\"Predictions: {y_preds[:10]}\\nLabels: {y_test[:10]}\")\n",
        "print(f\"Test accuracy: {calculate_accuracy(y_true=y_test, y_pred=y_preds)}%\")"
      ],
      "metadata": {
        "colab": {
          "base_uri": "https://localhost:8080/"
        },
        "id": "ALCq2GY1fQ9g",
        "outputId": "805e5b24-3508-46f7-a928-e4dceff72f14"
      },
      "execution_count": 129,
      "outputs": [
        {
          "output_type": "stream",
          "name": "stdout",
          "text": [
            "Predictions: tensor([1, 3, 2, 1, 0, 3, 2, 0, 2, 0])\n",
            "Labels: tensor([1, 3, 2, 1, 0, 3, 2, 0, 2, 0])\n",
            "Test accuracy: 99.5%\n"
          ]
        }
      ]
    },
    {
      "cell_type": "code",
      "source": [
        "plt.figure(figsize=(12, 6))\n",
        "plt.subplot(1, 2, 1)\n",
        "plt.title(\"Train\")\n",
        "plot_decision_boundary(model_4, X_train, y_train)\n",
        "plt.subplot(1, 2, 2)\n",
        "plt.title(\"Test\")\n",
        "plot_decision_boundary(model_4, X_test, y_test)"
      ],
      "metadata": {
        "colab": {
          "base_uri": "https://localhost:8080/",
          "height": 514
        },
        "id": "7AA4dWiFffeR",
        "outputId": "0c5ea669-7306-45cf-c9a4-c128a111dc1e"
      },
      "execution_count": 131,
      "outputs": [
        {
          "output_type": "display_data",
          "data": {
            "text/plain": [
              "<Figure size 1200x600 with 2 Axes>"
            ],
            "image/png": "[encoded data removed]"
          },
          "metadata": {}
        }
      ]
    },
    {
      "cell_type": "markdown",
      "source": [
        "## 9.More Classification Evaluation Metrics\n",
        "\n",
        "So far we've only covered a couple of ways of evaluating a classification model (accuracy, loss and visualizing predictions).\n",
        "\n",
        "These are some of the most common methods you'll come across and are a good starting point.\n",
        "\n",
        "However, you may want to evaluate your classification model using more metrics such as the following:\n",
        "\n",
        "| **Metric name/Evaluation method** | **Defintion** | **Code** |\n",
        "| --- | --- | --- |\n",
        "| Accuracy | Out of 100 predictions, how many does your model get correct? E.g. 95% accuracy means it gets 95/100 predictions correct. | [`torchmetrics.Accuracy()`](https://torchmetrics.readthedocs.io/en/stable/classification/accuracy.html#id3) or [`sklearn.metrics.accuracy_score()`](https://scikit-learn.org/stable/modules/generated/sklearn.metrics.accuracy_score.html) |\n",
        "| Precision | Proportion of true positives over total number of samples. Higher precision leads to less false positives (model predicts 1 when it should've been 0). | [`torchmetrics.Precision()`](https://torchmetrics.readthedocs.io/en/stable/classification/precision.html#id4) or [`sklearn.metrics.precision_score()`](https://scikit-learn.org/stable/modules/generated/sklearn.metrics.precision_score.html) |\n",
        "| Recall | Proportion of true positives over total number of true positives and false negatives (model predicts 0 when it should've been 1). Higher recall leads to less false negatives. | [`torchmetrics.Recall()`](https://torchmetrics.readthedocs.io/en/stable/classification/recall.html#id5) or [`sklearn.metrics.recall_score()`](https://scikit-learn.org/stable/modules/generated/sklearn.metrics.recall_score.html) |\n",
        "| F1-score | Combines precision and recall into one metric. 1 is best, 0 is worst. | [`torchmetrics.F1Score()`](https://torchmetrics.readthedocs.io/en/stable/classification/f1_score.html#f1score) or [`sklearn.metrics.f1_score()`](https://scikit-learn.org/stable/modules/generated/sklearn.metrics.f1_score.html) |\n",
        "| [Confusion matrix](https://www.dataschool.io/simple-guide-to-confusion-matrix-terminology/)  | Compares the predicted values with the true values in a tabular way, if 100% correct, all values in the matrix will be top left to bottom right (diagnol line). | [`torchmetrics.ConfusionMatrix`](https://torchmetrics.readthedocs.io/en/stable/classification/confusion_matrix.html#confusionmatrix) or [`sklearn.metrics.plot_confusion_matrix()`](https://scikit-learn.org/stable/modules/generated/sklearn.metrics.ConfusionMatrixDisplay.html#sklearn.metrics.ConfusionMatrixDisplay.from_predictions) |\n",
        "| Classification report | Collection of some of the main classification metrics such as precision, recall and f1-score. | [`sklearn.metrics.classification_report()`](https://scikit-learn.org/stable/modules/generated/sklearn.metrics.classification_report.html) |\n",
        "\n",
        "Scikit-Learn (a popular and world-class machine learning library) has many implementations of the above metrics and you're looking for a PyTorch-like version, check out [TorchMetrics](https://torchmetrics.readthedocs.io/en/latest/), especially the [TorchMetrics classification section](https://torchmetrics.readthedocs.io/en/stable/pages/classification.html).\n",
        "\n",
        "Let's try the `torchmetrics.Accuracy` metric out.\n",
        "\n",
        "\n"
      ],
      "metadata": {
        "id": "EpZvYtTHfwj0"
      }
    },
    {
      "cell_type": "code",
      "source": [
        "try:\n",
        "    from torchmetrics import Accuracy\n",
        "except:\n",
        "    !pip install torchmetrics==0.9.3 # this is the version we're using in this notebook (later versions exist here: https://torchmetrics.readthedocs.io/en/stable/generated/CHANGELOG.html#changelog)\n",
        "    from torchmetrics import Accuracy\n",
        "\n",
        "# Setup metric and make sure it's on the target device\n",
        "torchmetrics_accuracy = Accuracy(task='multiclass', num_classes=4).to(device)\n",
        "\n",
        "# Calculate accuracy\n",
        "torchmetrics_accuracy(y_preds, y_test)"
      ],
      "metadata": {
        "colab": {
          "base_uri": "https://localhost:8080/"
        },
        "id": "kJYCWcx8gOTM",
        "outputId": "0a3ad1a6-9dff-4793-980a-0bcf92418cb1"
      },
      "execution_count": 134,
      "outputs": [
        {
          "output_type": "execute_result",
          "data": {
            "text/plain": [
              "tensor(0.9950)"
            ]
          },
          "metadata": {},
          "execution_count": 134
        }
      ]
    },
    {
      "cell_type": "code",
      "source": [],
      "metadata": {
        "id": "a2YkU2AmgqTh"
      },
      "execution_count": null,
      "outputs": []
    }
  ]
}
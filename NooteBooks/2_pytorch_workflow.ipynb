{
  "nbformat": 4,
  "nbformat_minor": 0,
  "metadata": {
    "colab": {
      "provenance": [],
      "toc_visible": true,
      "gpuType": "T4"
    },
    "kernelspec": {
      "name": "python3",
      "display_name": "Python 3"
    },
    "language_info": {
      "name": "python"
    },
    "accelerator": "GPU"
  },
  "cells": [
    {
        "cell_type": "markdown",
        "metadata": {
        "colab_type": "text",
        "id": "view-in-github"
         },
        "source": [
          "<a href=\"https://colab.research.google.com/github/mhamzaraheel/pytorch_DeepLearning/blob/main/NooteBooks/2_pytorch_workflow.ipynb\" target=\"_parent\"><img src=\"https://colab.research.google.com/assets/colab-badge.svg\" alt=\"Open In Colab\"/></a>\n",
          "\n",
          "\n"
        ]
    },
    {
      "cell_type": "markdown",
      "source": [
        "# PyTorch Workflow\n",
        "\n",
        "### How Model Training Works?\n",
        "\n",
        "<p align= \"justify\">\n",
        "The model training process involves feeding large datasets with input-output pairs into the neural network, adjusting its internal parameters (weights and biases) through backpropagation to minimize the difference between predicted and actual outputs. This iterative optimization refines the model's ability to generalize patterns and make accurate predictions, enhancing its performance over time.\n",
        "\n",
        "\n",
        "<p align= \"justify\">\n",
        "\n",
        "> The essence of machine learning and deep learning is to take some data , build an algorithm/neural etwork model to train(discover patterns) in it and use the trained model for future prediction.\n",
        "</p>\n",
        "\n",
        "<p align= \"justify\">\n",
        "\n",
        "*But let's start small. In this wole session we will start with the straight line as our data.*\n",
        "</p>\n",
        "\n",
        "<p align= \"justify\">\n",
        "We will bulid a PyTorch model that takes the line as data and we will train the model on it , the model learns the pattern of the straight line and matches it.\n",
        "</p>"
      ],
      "metadata": {
        "id": "NIfQGEOKOlMD"
      }
    },
    {
      "cell_type": "code",
      "source": [
        "# <p align= \"justify\">"
      ],
      "metadata": {
        "id": "jXOZsJ4TN0gi"
      },
      "execution_count": 1,
      "outputs": []
    },
    {
      "cell_type": "markdown",
      "source": [
        "## 1.Setup\n",
        "\n",
        "Let's start imporitng the necessary modules/libraries.\n",
        "\n",
        "\n",
        "We're going to import `nn` (nn stand for neural network),    `torch.nn`is a module in the PyTorch library that provides classes for building and training neural networks. It includes predefined layers, loss functions, and optimization algorithms, making it a powerful tool for implementing and experimenting with deep learning models. and `matplotlib` for visualization.\n"
      ],
      "metadata": {
        "id": "AfTL81i-QCNT"
      }
    },
    {
      "cell_type": "code",
      "source": [
        "import torch\n",
        "from torch import nn\n",
        "import matplotlib.pyplot as plt"
      ],
      "metadata": {
        "id": "gqomB8GDOChP"
      },
      "execution_count": 2,
      "outputs": []
    },
    {
      "cell_type": "markdown",
      "source": [
        "## 2.Data Preparing\n",
        "\n",
        "\n",
        "In machine learning, **data** refers to the information or observations that a model uses to learn patterns, make predictions, or perform a task. This data can take various forms, including numerical values, text, images, audio, or a combination of these. The quality and quantity of the data significantly impact the performance and generalization ability of a machine learning model.\n",
        "\n",
        "\n",
        "\n",
        "\n"
      ],
      "metadata": {
        "id": "1zA77dQxUb7o"
      }
    },
    {
      "cell_type": "markdown",
      "source": [
        "### Let' Create Some Data\n",
        "\n",
        "Machine learning involves two key components:\n",
        "1. Turn your data, whatever it is, into numbers (a representation).\n",
        "2. Pick or build a model to learn the pattern in it as best as possible.\n",
        "\n",
        "\n",
        "But what if you don't have data? Well, that's where we're at now.\n",
        "\n",
        "> No data.\n",
        "\n",
        "*But we can create our own data.Let's create our data as a straight line.*\n",
        "\n",
        "We'll use [linear regression](https://en.wikipedia.org/wiki/Linear_regression) to create the straight line(data) with known **parameters** (weight and bias > machine learning model learn these parameter) and then we'll use PyTorch to see if we can build model to estimate these parameters using backpropogation ( computes  [**gradient descent**](https://en.wikipedia.org/wiki/Gradient_descent) using chain rule).\n"
      ],
      "metadata": {
        "id": "61Bx-QBA3yC_"
      }
    },
    {
      "cell_type": "code",
      "source": [
        "# Creat the data with known parameters\n",
        "weight  = 0.9\n",
        "bias = 0.5\n",
        "\n",
        "# Creat the data\n",
        "X = torch.arange(start = 0,end = 1,step = 0.01).unsqueeze(dim = 1)\n",
        "y = weight * X + bias"
      ],
      "metadata": {
        "id": "LYfLs286U64Q"
      },
      "execution_count": 3,
      "outputs": []
    },
    {
      "cell_type": "code",
      "source": [
        "len(X), len(y)"
      ],
      "metadata": {
        "colab": {
          "base_uri": "https://localhost:8080/"
        },
        "id": "koq8_975mtsP",
        "outputId": "0ffdaf14-71a1-4b00-f1e9-dd89f4ec35d8"
      },
      "execution_count": 4,
      "outputs": [
        {
          "output_type": "execute_result",
          "data": {
            "text/plain": [
              "(100, 100)"
            ]
          },
          "metadata": {},
          "execution_count": 4
        }
      ]
    },
    {
      "cell_type": "code",
      "source": [
        "X[:10], y[:10]"
      ],
      "metadata": {
        "colab": {
          "base_uri": "https://localhost:8080/"
        },
        "id": "9rpt4cEci5VH",
        "outputId": "a338ee2d-cc31-4737-9eda-d181366192bc"
      },
      "execution_count": 5,
      "outputs": [
        {
          "output_type": "execute_result",
          "data": {
            "text/plain": [
              "(tensor([[0.0000],\n",
              "         [0.0100],\n",
              "         [0.0200],\n",
              "         [0.0300],\n",
              "         [0.0400],\n",
              "         [0.0500],\n",
              "         [0.0600],\n",
              "         [0.0700],\n",
              "         [0.0800],\n",
              "         [0.0900]]),\n",
              " tensor([[0.5000],\n",
              "         [0.5090],\n",
              "         [0.5180],\n",
              "         [0.5270],\n",
              "         [0.5360],\n",
              "         [0.5450],\n",
              "         [0.5540],\n",
              "         [0.5630],\n",
              "         [0.5720],\n",
              "         [0.5810]]))"
            ]
          },
          "metadata": {},
          "execution_count": 5
        }
      ]
    },
    {
      "cell_type": "markdown",
      "source": [
        "### Train and Test Split\n",
        "\n",
        "We've created data. But before we build a model we need to split it into training and test set.\n",
        "\n",
        "*One of most important steps in a machine learning project is creating a training and test set (and when required, a validation set)*.\n",
        "\n",
        "Each split of the dataset serves a specific purpose:\n",
        "\n",
        "| Split | Purpose | Amount of total data | How often is it used? |\n",
        "| ----- | ----- | ----- | ----- |\n",
        "| **Training set** | The model learns from this data  | ~60-80% | Always |\n",
        "| **Validation set** | The model gets tuned on this data  | ~10-20% | Often but not always |\n",
        "| **Testing set** | The model gets evaluated on this data to test what it has learned  | ~10-20% | Always |\n",
        "\n",
        "\n",
        "We done this step at the start of the every project, then we train the model on training data and then evaluate it on test data to get an indication of how well it **generalizes** to unseen examples.\n",
        "\n"
      ],
      "metadata": {
        "id": "PajKPa4Zjbjj"
      }
    },
    {
      "cell_type": "code",
      "source": [
        "# Split the data into training and testing set\n",
        "\n",
        "train_split  = int(0.8 * len(X))\n",
        "\n",
        "X_train , y_train = X[:train_split] , y[:train_split]\n",
        "X_test , y_test = X[train_split:] , y[train_split:]\n"
      ],
      "metadata": {
        "id": "O-7LJEs6kpxy"
      },
      "execution_count": 6,
      "outputs": []
    },
    {
      "cell_type": "code",
      "source": [
        "len(X_train), len(y_train) , len(X_test) , len(y_test)"
      ],
      "metadata": {
        "colab": {
          "base_uri": "https://localhost:8080/"
        },
        "id": "qSwMmh9AmdcR",
        "outputId": "d1876626-7d5d-40e7-9d11-95775068a400"
      },
      "execution_count": 7,
      "outputs": [
        {
          "output_type": "execute_result",
          "data": {
            "text/plain": [
              "(80, 80, 20, 20)"
            ]
          },
          "metadata": {},
          "execution_count": 7
        }
      ]
    },
    {
      "cell_type": "markdown",
      "source": [
        "We've got 80 samples for training (`X_train` & `y_train`) and 20 samples for testing (`X_test` & `y_test`).\n",
        "\n",
        "The model will learn the relationship in `X_train` & `y_train` and then we will evaluate on `X_test` and `y_test`.\n",
        "\n"
      ],
      "metadata": {
        "id": "AcNELnDMmquO"
      }
    },
    {
      "cell_type": "markdown",
      "source": [
        "### Visualization\n",
        "\n",
        "\n",
        "Let's visualize the data by creating a function. Instead of just looking at numbers, we can see how the data looks."
      ],
      "metadata": {
        "id": "I6n5ku1-nMM5"
      }
    },
    {
      "cell_type": "code",
      "source": [
        "def plot_predictions(train_data = X_train, train_labels = y_train , test_data = X_test, test_labels = y_test ,predictions= None):\n",
        "  \"\"\"\n",
        "  Plot the traing and testing data and then Comares the prediction with true labels\n",
        "  \"\"\"\n",
        "  plt.figure(figsize = (8,5))\n",
        "\n",
        "  # Plot the traing data\n",
        "  plt.scatter(train_data,train_labels, c= \"b\",  s = 4, label = \"Traing Data\")\n",
        "\n",
        "  # plot the testing data\n",
        "  plt.scatter(test_data,test_labels , c= \"g\" , s = 4 , label = \"Testing Data\")\n",
        "\n",
        "\n",
        "  if predictions != None:\n",
        "    # plot the predictions\n",
        "    plt.scatter(test_data,predictions , c= \"r\" , s = 4 , label = \"Predictions\")\n",
        "\n",
        "\n",
        "  # Show the legend\n",
        "  plt.legend(prop={\"size\": 10});\n"
      ],
      "metadata": {
        "id": "QaOi9y-8n0p9"
      },
      "execution_count": 7,
      "outputs": []
    },
    {
      "cell_type": "code",
      "source": [
        "plot_predictions();"
      ],
      "metadata": {
        "colab": {
          "base_uri": "https://localhost:8080/",
          "height": 445
        },
        "id": "8pskuV2rotj1",
        "outputId": "515c0981-a881-4bc9-d868-1402109a5e87"
      },
      "execution_count": 9,
      "outputs": [
        {
          "output_type": "display_data",
          "data": {
            "text/plain": [
              "<Figure size 800x500 with 1 Axes>"
            ],
            "image/png": "[encoded data removed]"
          },
          "metadata": {}
        }
      ]
    },
    {
      "cell_type": "markdown",
      "source": [
        "## 3.Build model\n",
        "\n",
        "Now we've got some data, let's buld a PyTorch model to analyze patterns and discern relationships within the training data and corresponding labels.\n",
        "\n",
        "This model will be instrumental for making predictions on future test data.\n",
        "\n",
        "\n",
        "What our model does:\n",
        "* Start with random values (weight & bias)\n",
        "* Look at training data and adjust the random values to better represent (or get closer to) the ideal values (the weight & bias values we used to create the data)\n",
        "\n",
        "How does it do so?\n",
        "\n",
        "Through two main algorithms:\n",
        "1. Gradient descent\n",
        "2. Backpropagation\n",
        "\n"
      ],
      "metadata": {
        "id": "basmsNbgovVu"
      }
    },
    {
      "cell_type": "markdown",
      "source": [
        "### PyTorch Model_Building Essentials\n",
        "\n",
        "PyTorch has four main essential modules you can use to create almost any kind of neural network you can imagine.\n",
        "\n",
        "They are [`torch.nn`](https://pytorch.org/docs/stable/nn.html), [`torch.optim`](https://pytorch.org/docs/stable/optim.html), [`torch.utils.data.Dataset`](https://pytorch.org/docs/stable/data.html#torch.utils.data.Dataset) and [`torch.utils.data.DataLoader`](https://pytorch.org/docs/stable/data.html).\n",
        "\n",
        "We will focus on two for now and save the others for later use.\n",
        "\n",
        "\n",
        "| PyTorch module | What does it do? |\n",
        "| ----- | ----- |\n",
        "| [`torch.nn.Module`](https://pytorch.org/docs/stable/generated/torch.nn.Module.html#torch.nn.Module) | The base class for all neural network modules, all the building blocks for neural networks are subclasses. If you're building a neural network in PyTorch, your models should subclass `nn.Module`. Requires a `forward()` method be implemented. |\n",
        "| [`torch.nn`](https://pytorch.org/docs/stable/nn.html) | Contains all of the building blocks for computational graphs (essentially a series of computations executed in a particular way). |\n",
        "| `def forward()` | All `nn.Module` subclasses require a `forward()` method, this defines the computation that will take place on the data passed to the particular `nn.Module` (e.g. the linear regression formula above). |\n",
        "| [`torch.nn.Parameter`](https://pytorch.org/docs/stable/generated/torch.nn.parameter.Parameter.html#parameter) | Stores tensors that can be used with `nn.Module`. If `requires_grad=True` gradients (used for updating model parameters via [**gradient descent**](https://ml-cheatsheet.readthedocs.io/en/latest/gradient_descent.html))  are calculated automatically, this is often referred to as \"autograd\".  |\n",
        "| [`torch.optim`](https://pytorch.org/docs/stable/optim.html) | Contains various optimization algorithms (these tell the model parameters stored in `nn.Parameter` how to best change to improve gradient descent and in turn reduce the loss). |\n",
        "\n",
        "\n",
        "If the above sounds complex, think of like this, almost everything in a PyTorch neural network comes from `torch.nn`,\n",
        "* `nn.Module` contains the larger building blocks (layers)\n",
        "* `nn.Parameter` contains the smaller parameters like weights and biases (put these together to make `nn.Module`(s))\n",
        "* `forward()` tells the larger blocks how to make calculations on inputs (tensors full of data) within  `nn.Module`(s)\n",
        "* `torch.optim` contains optimization methods on how to improve the parameters within `nn.Parameter` to better represent input data\n",
        "\n",
        "\n",
        "\n",
        "\n",
        "> **Resource:** See more of these essential modules and their uses cases in the [PyTorch Cheat Sheet](https://pytorch.org/tutorials/beginner/ptcheat.html).\n"
      ],
      "metadata": {
        "id": "yrBoF0JQs49u"
      }
    },
    {
      "cell_type": "markdown",
      "source": [
        "### Simple Linear Regression Model\n",
        "Let's make a standard linear regression model using pure PyTorch."
      ],
      "metadata": {
        "id": "wDQTvpTO3LdR"
      }
    },
    {
      "cell_type": "code",
      "source": [
        "class LinearRegression(nn.Module):\n",
        "  def __init__(self):\n",
        "    super().__init__()\n",
        "    self.weight = nn.Parameter(torch.randn(1,\n",
        "                                           dtype = torch.float,\n",
        "                                           requires_grad = True)) # update the weight with gradient descent.\n",
        "    self.bias = nn.Parameter(torch.randn(1,\n",
        "                                           dtype = torch.float,\n",
        "                                           requires_grad = True)) # update the bias with gradient descent.\n",
        "\n",
        "  # Forward method for the computation of model\n",
        "  def forward(self, x:torch.Tensor) -> torch.Tensor:\n",
        "    return self.weight * x + self.bias           # linear regression formula (y = w*x+b)"
      ],
      "metadata": {
        "id": "TCoUYEKJuyU5"
      },
      "execution_count": 10,
      "outputs": []
    },
    {
      "cell_type": "markdown",
      "source": [
        "\n",
        "### Getting Information Of The Model\n",
        "Now we will create a model instance with the class we've made and check its parameters using [`.parameters()`](https://pytorch.org/docs/stable/generated/torch.nn.Module.html#torch.nn.Module.parameters)."
      ],
      "metadata": {
        "id": "j0_x562-x_9H"
      }
    },
    {
      "cell_type": "code",
      "source": [
        "# set the manual seed , as we want to initialize nn.Parameter  radomly\n",
        "\n",
        "torch.manual_seed(42)\n",
        "\n",
        "# make the instance of the model\n",
        "model_0  = LinearRegression()\n",
        "\n",
        "# check the parameters (nn.Parameter(s)) of the model.\n",
        "\n",
        "list(model_0.parameters())"
      ],
      "metadata": {
        "colab": {
          "base_uri": "https://localhost:8080/"
        },
        "id": "UTD4keT86fIx",
        "outputId": "02a8a89f-f827-42ef-8560-82055cce4b95"
      },
      "execution_count": 11,
      "outputs": [
        {
          "output_type": "execute_result",
          "data": {
            "text/plain": [
              "[Parameter containing:\n",
              " tensor([0.3367], requires_grad=True),\n",
              " Parameter containing:\n",
              " tensor([0.1288], requires_grad=True)]"
            ]
          },
          "metadata": {},
          "execution_count": 11
        }
      ]
    },
    {
      "cell_type": "markdown",
      "source": [
        "We can also get the state of the model by [`.state_dict()`](https://pytorch.org/tutorials/recipes/recipes/what_is_state_dict.html)."
      ],
      "metadata": {
        "id": "SKqEOKrc8BwO"
      }
    },
    {
      "cell_type": "code",
      "source": [
        "model_0.state_dict()"
      ],
      "metadata": {
        "colab": {
          "base_uri": "https://localhost:8080/"
        },
        "id": "McGojqpD8Wk3",
        "outputId": "dc385f8d-7c77-42f9-eed0-f6e92850239c"
      },
      "execution_count": 12,
      "outputs": [
        {
          "output_type": "execute_result",
          "data": {
            "text/plain": [
              "OrderedDict([('weight', tensor([0.3367])), ('bias', tensor([0.1288]))])"
            ]
          },
          "metadata": {},
          "execution_count": 12
        }
      ]
    },
    {
      "cell_type": "markdown",
      "source": [
        "We  got the `wieghts` amd `bias `.These weights are randonly initialized using  `torch.randn()`.\n",
        "\n",
        "We will make the  model to update them towards parameters that fit our data best (the hardcoded `weight` and `bias` values we set when creating our straight line data)."
      ],
      "metadata": {
        "id": "DSzt9chE7y7B"
      }
    },
    {
      "cell_type": "markdown",
      "source": [
        "### Making Predictions using [`torch.inference_mode()`](https://pytorch.org/docs/stable/generated/torch.inference_mode.html)\n",
        "\n",
        "For prediction we pass the test data `X_test` to the model and then check how closely it predicts to the testing labels `y_test`.\n",
        "\n",
        "When we pass data to our model, it'll go through the model's `forward()` method and produce a result using the computation we've defined.\n",
        "\n"
      ],
      "metadata": {
        "id": "C-IBNumI8xV4"
      }
    },
    {
      "cell_type": "code",
      "source": [
        "# Make predictions with model\n",
        "with torch.inference_mode():\n",
        "    y_preds = model_0(X_test)\n",
        "\n",
        "# Note: in older PyTorch code you might also see torch.no_grad()\n",
        "# with torch.no_grad():\n",
        "#   y_preds = model_0(X_test)"
      ],
      "metadata": {
        "id": "InhJdSwf-rJI"
      },
      "execution_count": 13,
      "outputs": []
    },
    {
      "cell_type": "markdown",
      "source": [
        "We  used [`torch.inference_mode()`](https://pytorch.org/docs/stable/generated/torch.inference_mode.html) for the inference.As the name suggests, `torch.inference_mode()` is used when using a model for inference (making predictions).\n",
        "\n",
        "`torch.inference_mode()` turns off a bunch of things (like gradient tracking, which is necessary for training but not for inference)."
      ],
      "metadata": {
        "id": "r0Rj8Kho-8hj"
      }
    },
    {
      "cell_type": "markdown",
      "source": [
        "Our predictions are still numbers on a page, let's visualize them with our `plot_predictions()` function we created above."
      ],
      "metadata": {
        "id": "uthnOrit3Rm7"
      }
    },
    {
      "cell_type": "code",
      "source": [
        "# Visualize the prediction.\n",
        "\n",
        "plot_predictions(predictions=y_preds)"
      ],
      "metadata": {
        "colab": {
          "base_uri": "https://localhost:8080/",
          "height": 445
        },
        "id": "nIWIwfE6CHud",
        "outputId": "6769618c-b4c4-4069-8ed2-9a06245e390d"
      },
      "execution_count": 14,
      "outputs": [
        {
          "output_type": "display_data",
          "data": {
            "text/plain": [
              "<Figure size 800x500 with 1 Axes>"
            ],
            "image/png": "[encoded data removed]"
          },
          "metadata": {}
        }
      ]
    },
    {
      "cell_type": "code",
      "source": [
        "y_test - y_preds"
      ],
      "metadata": {
        "colab": {
          "base_uri": "https://localhost:8080/"
        },
        "id": "B4xC1ZkmCYDO",
        "outputId": "ba4cd43e-67d5-4741-a8c4-9f96641afd54"
      },
      "execution_count": 15,
      "outputs": [
        {
          "output_type": "execute_result",
          "data": {
            "text/plain": [
              "tensor([[0.8218],\n",
              "        [0.8275],\n",
              "        [0.8331],\n",
              "        [0.8387],\n",
              "        [0.8444],\n",
              "        [0.8500],\n",
              "        [0.8556],\n",
              "        [0.8613],\n",
              "        [0.8669],\n",
              "        [0.8725],\n",
              "        [0.8782],\n",
              "        [0.8838],\n",
              "        [0.8894],\n",
              "        [0.8951],\n",
              "        [0.9007],\n",
              "        [0.9063],\n",
              "        [0.9120],\n",
              "        [0.9176],\n",
              "        [0.9232],\n",
              "        [0.9289]])"
            ]
          },
          "metadata": {},
          "execution_count": 15
        }
      ]
    },
    {
      "cell_type": "markdown",
      "source": [
        "These predictions look pretty bad. For these prediction, model just use the random numbers we have initialized.It hasn't even looked at the training data  to try to predict the labels.\n",
        "\n",
        "Let's train the model on the training data to predict the labels.\n",
        "\n"
      ],
      "metadata": {
        "id": "GGyjKJUWCh4y"
      }
    },
    {
      "cell_type": "markdown",
      "source": [
        "## 3. Train model\n",
        "\n",
        "Right now our model is making predictions using random parameters (we have initialzed with `nn.Parameter` and `torch.randn`) to make calculations, it's basically guessing (randomly).\n",
        "\n",
        "To fix that, we will make our model to update these paramters to fit the data and for the correct predictions.\n",
        "\n",
        "**Note** > We have ideal parameters as `weight =0.9` & `bias = 0.5`.\n",
        "\n",
        "Much of the time you won't know what the ideal parameters are for a model.\n",
        "\n"
      ],
      "metadata": {
        "id": "2i1PwnvpDHdK"
      }
    },
    {
      "cell_type": "markdown",
      "source": [
        "### Creating a loss function and optimizer in PyTorch\n",
        "\n",
        "We'll need to add **loss function** as well as an **optimizer** For our model to update its parameters on its own.\n",
        "\n",
        "\n",
        "| Function | What does it do? | Where does it live in PyTorch? | Common values |\n",
        "| ----- | ----- | ----- | ----- |\n",
        "| **Loss function** | Measures how wrong your models predictions (e.g. `y_preds`) w.r.t y_test | PyTorch has plenty of built-in loss functions in [`torch.nn`](https://pytorch.org/docs/stable/nn.html#loss-functions). | Mean absolute error (MAE) for regression problems ([`torch.nn.L1Loss()`](https://pytorch.org/docs/stable/generated/torch.nn.L1Loss.html)). Binary cross entropy for binary classification problems ([`torch.nn.BCELoss()`](https://pytorch.org/docs/stable/generated/torch.nn.BCELoss.html)).  |\n",
        "| **Optimizer** | Tells your model how to update its internal parameters to lower the loss. | You can find various optimization function implementations in [`torch.optim`](https://pytorch.org/docs/stable/optim.html). | Stochastic gradient descent ([`torch.optim.SGD()`](https://pytorch.org/docs/stable/generated/torch.optim.SGD.html#torch.optim.SGD)). Adam optimizer ([`torch.optim.Adam()`](https://pytorch.org/docs/stable/generated/torch.optim.Adam.html#torch.optim.Adam)). |\n",
        "\n",
        "* Inside the optimizer you'll often have to set two parameters:\n",
        "    * `params` - the model parameters you'd like to optimize, for example `params=model_0.parameters()`\n",
        "    * `lr` (learning rate) - the learning rate is a hyperparameter that defines how big/small the optimizer changes the parameters with each step (a small `lr` results in small changes, a large `lr` results in large changes)\n",
        "\n",
        "**Q:** Which loss function and optimizer should I use?\n",
        "\n",
        "**A** This is problem specific,depending on what kind of problem you're working on will depend on what loss function and what optimizer you use.\n",
        "\n",
        "Let's create a loss function and an optimizer we can use to help improve our model.\n",
        "\n",
        "\n",
        "\n"
      ],
      "metadata": {
        "id": "W9FtyGiXFs54"
      }
    },
    {
      "cell_type": "code",
      "source": [
        "# Create the loss function\n",
        "loss_fun = nn.L1Loss()   # MAE loss\n",
        "\n",
        "# Create the Optimizer\n",
        "optimizer = torch.optim.SGD(params = model_0.parameters(), # Parameters of the model to optimize\n",
        "                         lr = 0.01) # How much optimier takes step to lower the loss."
      ],
      "metadata": {
        "id": "nH0mVTgkKihq"
      },
      "execution_count": 16,
      "outputs": []
    },
    {
      "cell_type": "markdown",
      "source": [
        "### Creating an Optimization Loops in PyTorch\n",
        "\n",
        " Now time to create a **training loop** and **testing loop**.\n",
        "\n",
        "The training loop involves the model going through the training data and learning the relationships between the `features` and `labels`.\n",
        "\n",
        "The testing loop involves going through the testing data and evaluating how good the patterns are that the model learned on the training data (the model never see's the testing data during training).\n"
      ],
      "metadata": {
        "id": "yPIbFiUtGytt"
      }
    },
    {
      "cell_type": "markdown",
      "source": [
        "\n",
        "\n",
        "### PyTorch training loop\n",
        "For the training loop, we'll build the following steps:\n",
        "\n",
        "| Number | Step name | What does it do? | Code example |\n",
        "| ----- | ----- | ----- | ----- |\n",
        "| 1 | Forward pass | The model goes through all of the training data once, performing its `forward()` function calculations. | `model(x_train)` |\n",
        "| 2 | Calculate the loss | The model's outputs (predictions) are compared to the ground truth and evaluated to see how wrong they are. | `loss = loss_fn(y_pred, y_train)` |\n",
        "| 3 | Zero gradients | The optimizers gradients are set to zero (they are accumulated by default) so they can be recalculated for the specific training step. | `optimizer.zero_grad()` |\n",
        "| 4 | Perform backpropagation on the loss | Computes the gradient of the loss with respect for every model parameter to be updated  (each parameter with `requires_grad=True`). This is known as **backpropagation**, hence \"backwards\".  | `loss.backward()` |\n",
        "| 5 | Update the optimizer (**gradient descent**) | Update the parameters with `requires_grad=True` with respect to the loss gradients in order to improve them. | `optimizer.step()` |\n",
        "\n",
        "\n"
      ],
      "metadata": {
        "id": "_p3iWTY4Kv9r"
      }
    },
    {
      "cell_type": "markdown",
      "source": [
        "\n",
        "### PyTorch testing loop\n",
        "\n",
        "As for the testing loop (evaluating our model), the typical steps include:\n",
        "\n",
        "| Number | Step name | What does it do? | Code example |\n",
        "| ----- | ----- | ----- | ----- |\n",
        "| 1 | Forward pass | The model goes through all of the training data once, performing its `forward()` function calculations. | `model(x_test)` |\n",
        "| 2 | Calculate the loss | The model's outputs (predictions) are compared to the ground truth and evaluated to see how wrong they are. | `loss = loss_fn(y_pred, y_test)` |\n",
        "| 3 | Calulate evaluation metrics (optional) | Alongisde the loss value you may want to calculate other evaluation metrics such as accuracy on the test set. | Custom functions |\n",
        "\n",
        "Notice the testing loop doesn't contain performing backpropagation (`loss.backward()`) or stepping the optimizer (`optimizer.step()`), this is because no parameters in the model are being changed during testing, they've already been calculated. For testing, we're only interested in the output of the forward pass through the model.\n",
        "\n"
      ],
      "metadata": {
        "id": "JRqDhwg4SGAT"
      }
    },
    {
      "cell_type": "code",
      "source": [
        "# setting the manual seed\n",
        "torch.manual_seed(42)\n",
        "\n",
        "# How many times the model will train (update the parameters)\n",
        "epochs = 200\n",
        "\n",
        "# create the empty list to store the values\n",
        "train_loss_values = []\n",
        "test_loss_values = []\n",
        "epoch_count = []\n",
        "\n",
        "for epoch in range(epochs):\n",
        "  ### Training\n",
        "\n",
        "  # set the training mode (default state of model)\n",
        "  model_0.train()\n",
        "\n",
        "  # 1. Forward Pass , Model will use the forward() method inside.\n",
        "  y_pred = model_0(X_train)\n",
        "\n",
        "  # 2. Finding the loss (how our prediction is differ from the )\n",
        "  loss = loss_fun(y_pred, y_train)\n",
        "\n",
        "  # 3. Zero grad of the optimizer\n",
        "  optimizer.zero_grad()\n",
        "\n",
        "  # Backpropogation > Find the gradient of loss w.r.t to parameters.\n",
        "  loss.backward()\n",
        "\n",
        "  # Step the optimizer (Perform the gradient descent )\n",
        "  optimizer.step()\n",
        "\n",
        "\n",
        "  ### Testing\n",
        "\n",
        "  # Put the model in evalution mode\n",
        "  model_0.eval()\n",
        "  with torch.inference_mode():\n",
        "    # Forward pass on the test data\n",
        "    test_pred = model_0(X_test)\n",
        "\n",
        "    # Finding the loss on the test data\n",
        "    test_loss = loss_fun(test_pred , y_test)\n",
        "\n",
        "\n",
        "    # Print out what's happening\n",
        "    if epoch % 10 == 0:\n",
        "        epoch_count.append(epoch)\n",
        "        train_loss_values.append(loss.numpy())\n",
        "        test_loss_values.append(test_loss.detach().numpy())\n",
        "        print(f\"Epoch: {epoch} | MAE Train Loss: {loss} | MAE Test Loss: {test_loss} \")\n",
        "        # Print out model state_dict()\n",
        "        print(model_0.state_dict(),\"\\n\")"
      ],
      "metadata": {
        "id": "cFalHgFYK12G",
        "colab": {
          "base_uri": "https://localhost:8080/"
        },
        "outputId": "9de83d5c-6466-4928-c785-0dc3d4042e0b"
      },
      "execution_count": 17,
      "outputs": [
        {
          "output_type": "stream",
          "name": "stdout",
          "text": [
            "Epoch: 0 | MAE Train Loss: 0.5936979055404663 | MAE Test Loss: 0.861817479133606 \n",
            "OrderedDict([('weight', tensor([0.3406])), ('bias', tensor([0.1388]))]) \n",
            "\n",
            "Epoch: 10 | MAE Train Loss: 0.4780953526496887 | MAE Test Loss: 0.7264648675918579 \n",
            "OrderedDict([('weight', tensor([0.3801])), ('bias', tensor([0.2388]))]) \n",
            "\n",
            "Epoch: 20 | MAE Train Loss: 0.3624928891658783 | MAE Test Loss: 0.591112494468689 \n",
            "OrderedDict([('weight', tensor([0.4196])), ('bias', tensor([0.3388]))]) \n",
            "\n",
            "Epoch: 30 | MAE Train Loss: 0.24689047038555145 | MAE Test Loss: 0.45576006174087524 \n",
            "OrderedDict([('weight', tensor([0.4591])), ('bias', tensor([0.4388]))]) \n",
            "\n",
            "Epoch: 40 | MAE Train Loss: 0.13586443662643433 | MAE Test Loss: 0.32423368096351624 \n",
            "OrderedDict([('weight', tensor([0.4986])), ('bias', tensor([0.5351]))]) \n",
            "\n",
            "Epoch: 50 | MAE Train Loss: 0.08506610989570618 | MAE Test Loss: 0.2352665215730667 \n",
            "OrderedDict([('weight', tensor([0.5343])), ('bias', tensor([0.5921]))]) \n",
            "\n",
            "Epoch: 60 | MAE Train Loss: 0.06944121420383453 | MAE Test Loss: 0.18599621951580048 \n",
            "OrderedDict([('weight', tensor([0.5625])), ('bias', tensor([0.6161]))]) \n",
            "\n",
            "Epoch: 70 | MAE Train Loss: 0.06343401968479156 | MAE Test Loss: 0.15905943512916565 \n",
            "OrderedDict([('weight', tensor([0.5851])), ('bias', tensor([0.6228]))]) \n",
            "\n",
            "Epoch: 80 | MAE Train Loss: 0.059539757668972015 | MAE Test Loss: 0.1428590714931488 \n",
            "OrderedDict([('weight', tensor([0.6046])), ('bias', tensor([0.6216]))]) \n",
            "\n",
            "Epoch: 90 | MAE Train Loss: 0.05605032294988632 | MAE Test Loss: 0.13177165389060974 \n",
            "OrderedDict([('weight', tensor([0.6225])), ('bias', tensor([0.6166]))]) \n",
            "\n",
            "Epoch: 100 | MAE Train Loss: 0.05262034013867378 | MAE Test Loss: 0.12343613803386688 \n",
            "OrderedDict([('weight', tensor([0.6397])), ('bias', tensor([0.6096]))]) \n",
            "\n",
            "Epoch: 110 | MAE Train Loss: 0.04919440299272537 | MAE Test Loss: 0.115444615483284 \n",
            "OrderedDict([('weight', tensor([0.6567])), ('bias', tensor([0.6023]))]) \n",
            "\n",
            "Epoch: 120 | MAE Train Loss: 0.0457683727145195 | MAE Test Loss: 0.10745303332805634 \n",
            "OrderedDict([('weight', tensor([0.6737])), ('bias', tensor([0.5951]))]) \n",
            "\n",
            "Epoch: 130 | MAE Train Loss: 0.042343150824308395 | MAE Test Loss: 0.09911748021841049 \n",
            "OrderedDict([('weight', tensor([0.6909])), ('bias', tensor([0.5881]))]) \n",
            "\n",
            "Epoch: 140 | MAE Train Loss: 0.038917262107133865 | MAE Test Loss: 0.09112592041492462 \n",
            "OrderedDict([('weight', tensor([0.7079])), ('bias', tensor([0.5808]))]) \n",
            "\n",
            "Epoch: 150 | MAE Train Loss: 0.0354912206530571 | MAE Test Loss: 0.08313434571027756 \n",
            "OrderedDict([('weight', tensor([0.7249])), ('bias', tensor([0.5736]))]) \n",
            "\n",
            "Epoch: 160 | MAE Train Loss: 0.03206596523523331 | MAE Test Loss: 0.07479880005121231 \n",
            "OrderedDict([('weight', tensor([0.7421])), ('bias', tensor([0.5666]))]) \n",
            "\n",
            "Epoch: 170 | MAE Train Loss: 0.028640100732445717 | MAE Test Loss: 0.06680723279714584 \n",
            "OrderedDict([('weight', tensor([0.7591])), ('bias', tensor([0.5593]))]) \n",
            "\n",
            "Epoch: 180 | MAE Train Loss: 0.025214066728949547 | MAE Test Loss: 0.058815669268369675 \n",
            "OrderedDict([('weight', tensor([0.7761])), ('bias', tensor([0.5521]))]) \n",
            "\n",
            "Epoch: 190 | MAE Train Loss: 0.02178877592086792 | MAE Test Loss: 0.05048011988401413 \n",
            "OrderedDict([('weight', tensor([0.7933])), ('bias', tensor([0.5451]))]) \n",
            "\n"
          ]
        }
      ]
    },
    {
      "cell_type": "markdown",
      "source": [
        "Let have a look how our loss goes down."
      ],
      "metadata": {
        "id": "OrzXB697Sm9E"
      }
    },
    {
      "cell_type": "code",
      "source": [
        "# Plot the loss curves\n",
        "\n",
        "plt.plot(epoch_count, train_loss_values , label = \"Train Loss\")\n",
        "plt.plot(epoch_count, test_loss_values, label = \"Test Loss\")\n",
        "plt.title(\"Training & Test Loss\")\n",
        "plt.ylabel(\"Loss\")\n",
        "plt.xlabel(\"Epochs\")\n",
        "plt.legend()\n"
      ],
      "metadata": {
        "id": "HvXLHk9NSn3J",
        "colab": {
          "base_uri": "https://localhost:8080/",
          "height": 489
        },
        "outputId": "15dff0da-7817-417f-d88b-87d2f4ca8dcd"
      },
      "execution_count": 18,
      "outputs": [
        {
          "output_type": "execute_result",
          "data": {
            "text/plain": [
              "<matplotlib.legend.Legend at 0x7d6a447b3880>"
            ]
          },
          "metadata": {},
          "execution_count": 18
        },
        {
          "output_type": "display_data",
          "data": {
            "text/plain": [
              "<Figure size 640x480 with 1 Axes>"
            ],
            "image/png": "[encoded data removed]"
          },
          "metadata": {}
        }
      ]
    },
    {
      "cell_type": "markdown",
      "source": [
        "Check the model parameters with [`.state_dict()`](https://pytorch.org/tutorials/recipes/recipes/what_is_state_dict.html) to see see how close our model gets to the original values we set for weights and bias."
      ],
      "metadata": {
        "id": "22tS1vu_SiYi"
      }
    },
    {
      "cell_type": "code",
      "source": [
        "model_0.state_dict()"
      ],
      "metadata": {
        "id": "AvCxLIUNTO34",
        "colab": {
          "base_uri": "https://localhost:8080/"
        },
        "outputId": "51e9882c-3075-4cef-d76a-ab69bbd5cd46"
      },
      "execution_count": 19,
      "outputs": [
        {
          "output_type": "execute_result",
          "data": {
            "text/plain": [
              "OrderedDict([('weight', tensor([0.8086])), ('bias', tensor([0.5386]))])"
            ]
          },
          "metadata": {},
          "execution_count": 19
        }
      ]
    },
    {
      "cell_type": "markdown",
      "source": [
        "## 5.Making Predictions With Trained PyTorch Model (Inference)\n",
        "\n",
        "\n",
        "There are three things to remember when making predictions (also called performing inference) with a PyTorch model:\n",
        "\n",
        "1. Set the model in evaluation mode (`model.eval()`).\n",
        "2. Predict using  inference mode context manager (`with torch.inference_mode(): ...`).\n",
        "3. All predictions should be made with objects on the same device (e.g. data and model on GPU only or data and model on CPU only).\n",
        "\n",
        "First two things are necessay in training but aren't necessary for inference are turned off (this results in faster computation). And the third ensures that you won't run into cross-device errors."
      ],
      "metadata": {
        "id": "yC_vJ4NfS25i"
      }
    },
    {
      "cell_type": "code",
      "source": [
        "# set the modelto evalution mode\n",
        "model_0.eval()\n",
        "\n",
        "# setup the inference mode context manager\n",
        "with torch.inference_mode():\n",
        "  y_preds = model_0(X_test)\n",
        "\n",
        "y_preds"
      ],
      "metadata": {
        "id": "25Tr-9DATXnx",
        "colab": {
          "base_uri": "https://localhost:8080/"
        },
        "outputId": "5d05a1f4-79f7-4670-f60e-f5148fbd3958"
      },
      "execution_count": 20,
      "outputs": [
        {
          "output_type": "execute_result",
          "data": {
            "text/plain": [
              "tensor([[1.1854],\n",
              "        [1.1935],\n",
              "        [1.2016],\n",
              "        [1.2097],\n",
              "        [1.2178],\n",
              "        [1.2259],\n",
              "        [1.2339],\n",
              "        [1.2420],\n",
              "        [1.2501],\n",
              "        [1.2582],\n",
              "        [1.2663],\n",
              "        [1.2744],\n",
              "        [1.2825],\n",
              "        [1.2905],\n",
              "        [1.2986],\n",
              "        [1.3067],\n",
              "        [1.3148],\n",
              "        [1.3229],\n",
              "        [1.3310],\n",
              "        [1.3391]])"
            ]
          },
          "metadata": {},
          "execution_count": 20
        }
      ]
    },
    {
      "cell_type": "markdown",
      "source": [
        "Nice! We've made some predictions with our trained model, now how do they look?"
      ],
      "metadata": {
        "id": "wCYTJgbbT6Y6"
      }
    },
    {
      "cell_type": "code",
      "source": [
        "plot_predictions(predictions=y_preds)"
      ],
      "metadata": {
        "colab": {
          "base_uri": "https://localhost:8080/",
          "height": 445
        },
        "id": "qHeAOtUZCURS",
        "outputId": "5de46407-4080-4bf6-b078-27221f555762"
      },
      "execution_count": 21,
      "outputs": [
        {
          "output_type": "display_data",
          "data": {
            "text/plain": [
              "<Figure size 800x500 with 1 Axes>"
            ],
            "image/png": "[encoded data removed]"
          },
          "metadata": {}
        }
      ]
    },
    {
      "cell_type": "markdown",
      "source": [
        "## 6.Saving & Loading a PyTorch model\n",
        "\n",
        "\n",
        "\n",
        "For saving and loading models in PyTorch, there are three main methods you should be aware of [PyTorch saving and loading models guide](https://pytorch.org/tutorials/beginner/saving_loading_models.html#saving-loading-model-for-inference)):\n",
        "\n",
        "| PyTorch method | What does it do? |\n",
        "| ----- | ----- |\n",
        "| [`torch.save`](https://pytorch.org/docs/stable/torch.html?highlight=save#torch.save) | Saves a serialized object to disk using Python's [`pickle`](https://docs.python.org/3/library/pickle.html) utility. Models, tensors and various other Python objects like dictionaries can be saved using `torch.save`.  |\n",
        "| [`torch.load`](https://pytorch.org/docs/stable/torch.html?highlight=torch%20load#torch.load) | Uses `pickle`'s unpickling features to deserialize and load pickled Python object files (like models, tensors or dictionaries) into memory. You can also set which device to load the object to (CPU, GPU etc). |\n",
        "| [`torch.nn.Module.load_state_dict`](https://pytorch.org/docs/stable/generated/torch.nn.Module.html?highlight=load_state_dict#torch.nn.Module.load_state_dict)| Loads a model's parameter dictionary (`model.state_dict()`) using a saved `state_dict()` object. |\n",
        "\n",
        "> **Note:** As stated in [Python's `pickle` documentation](https://docs.python.org/3/library/pickle.html), the `pickle` module **is not secure**.\n"
      ],
      "metadata": {
        "id": "-YgDDD2JCUrd"
      }
    },
    {
      "cell_type": "markdown",
      "source": [
        "### Saving a PyTorch Model's `state_dict()`\n",
        "\n",
        "The [recommended way](https://pytorch.org/tutorials/beginner/saving_loading_models.html#saving-loading-model-for-inference) for saving and loading a model for inference (making predictions) is by saving and loading a model's `state_dict()`.\n",
        "\n",
        "Let's see how we can do that in a few steps:\n",
        "\n",
        "1. We'll create a directory for saving models to called `models` using Python's `pathlib` module.\n",
        "2. We'll create a file path to save the model to.\n",
        "3. We'll call `torch.save(obj, f)` where `obj` is the target model's `state_dict()` and `f` is the filename of where to save the model.\n",
        "\n",
        "> **Note:** It's common convention for PyTorch saved models or objects to end with `.pt` or `.pth`, like `saved_model_01.pth`.\n",
        "\n",
        "\n",
        "Why not save the entire model?\n",
        "\n",
        "[Saving the entire model](https://pytorch.org/tutorials/beginner/saving_loading_models.html#save-load-entire-model) rather than just the `state_dict()` is more intuitive, however, to quote the PyTorch documentation (italics mine):\n",
        "\n",
        "> The disadvantage of this approach *(saving the whole model)* is that the serialized data is bound to the specific classes and the exact directory structure used when the model is saved...\n",
        ">\n",
        "> Because of this, your code can break in various ways when used in other projects or after refactors.\n"
      ],
      "metadata": {
        "id": "oJe0Xt-uGcVk"
      }
    },
    {
      "cell_type": "code",
      "source": [
        "from pathlib import Path\n",
        "\n",
        "\n",
        "# Create the directory for saving the model\n",
        "MODEL_PATH = Path(\"model\")\n",
        "MODEL_PATH.mkdir(parents = True, exist_ok = True)\n",
        "\n",
        "# File Name\n",
        "MODEL_NAME = \"2#pytorch_workflow_model_0.pth\"\n",
        "# Path where we want to save the model\n",
        "MODEL_SAVE_PATH =  MODEL_PATH/MODEL_NAME\n",
        "\n",
        "\n",
        "# Save the model state dict\n",
        "print(\"Saving the Model to \",MODEL_SAVE_PATH)\n",
        "torch.save(obj = model_0.state_dict(), f = MODEL_SAVE_PATH)\n"
      ],
      "metadata": {
        "colab": {
          "base_uri": "https://localhost:8080/"
        },
        "id": "RTPGA6NNIKXC",
        "outputId": "b35b7e34-beef-449e-c8e8-4e502104da66"
      },
      "execution_count": 22,
      "outputs": [
        {
          "output_type": "stream",
          "name": "stdout",
          "text": [
            "Saving the Model to  model/2#pytorch_workflow_model_0.pth\n"
          ]
        }
      ]
    },
    {
      "cell_type": "markdown",
      "source": [
        "### Loading a saved PyTorch model's `state_dict()`\n",
        "\n",
        "Since we've now got a saved model `state_dict()` at `models/01_pytorch_workflow_model_0.pth` we can now load it in using `torch.nn.Module.load_state_dict(torch.load(f))` where `f` is the filepath of our saved model `state_dict()`.\n",
        "\n",
        "Why call `torch.load()` inside `torch.nn.Module.load_state_dict()`?\n",
        "\n",
        "Because we only saved the model's `state_dict()` which is a dictionary of learned parameters and not the *entire* model, we first have to load the `state_dict()` with `torch.load()` and then pass that `state_dict()` to a new instance of our model (which is a subclass of `nn.Module`).\n",
        "\n",
        "\n"
      ],
      "metadata": {
        "id": "jZJOGtsZIeVN"
      }
    },
    {
      "cell_type": "code",
      "source": [
        "# Make the new  instance of the model\n",
        "loaded_model_0 = LinearRegression()\n",
        "\n",
        "\n",
        "loaded_model_0.load_state_dict(torch.load(f = MODEL_SAVE_PATH))"
      ],
      "metadata": {
        "colab": {
          "base_uri": "https://localhost:8080/"
        },
        "id": "ym-d4hTRKXBi",
        "outputId": "1ae18799-625c-40c2-a573-c726b4247552"
      },
      "execution_count": 23,
      "outputs": [
        {
          "output_type": "execute_result",
          "data": {
            "text/plain": [
              "<All keys matched successfully>"
            ]
          },
          "metadata": {},
          "execution_count": 23
        }
      ]
    },
    {
      "cell_type": "markdown",
      "source": [
        "\n",
        "Now to test our loaded model, let's perform inference with it (make predictions) on the test data."
      ],
      "metadata": {
        "id": "BelBemzxK1cO"
      }
    },
    {
      "cell_type": "code",
      "source": [
        "# 1. Put the loaded model into evaluation mode\n",
        "loaded_model_0.eval()\n",
        "\n",
        "# 2. Use the inference mode context manager to make predictions\n",
        "with torch.inference_mode():\n",
        "    loaded_model_preds = loaded_model_0(X_test) # perform a forward pass on the test data with the loaded model"
      ],
      "metadata": {
        "id": "cuM_E3B4LD2A"
      },
      "execution_count": 24,
      "outputs": []
    },
    {
      "cell_type": "code",
      "source": [
        "y_preds == loaded_model_preds"
      ],
      "metadata": {
        "colab": {
          "base_uri": "https://localhost:8080/"
        },
        "id": "WEmy6ZG1LHkZ",
        "outputId": "b8563191-76a0-420d-dc1e-325d25106633"
      },
      "execution_count": 72,
      "outputs": [
        {
          "output_type": "execute_result",
          "data": {
            "text/plain": [
              "tensor([[True],\n",
              "        [True],\n",
              "        [True],\n",
              "        [True],\n",
              "        [True],\n",
              "        [True],\n",
              "        [True],\n",
              "        [True],\n",
              "        [True],\n",
              "        [True],\n",
              "        [True],\n",
              "        [True],\n",
              "        [True],\n",
              "        [True],\n",
              "        [True],\n",
              "        [True],\n",
              "        [True],\n",
              "        [True],\n",
              "        [True],\n",
              "        [True]])"
            ]
          },
          "metadata": {},
          "execution_count": 72
        }
      ]
    },
    {
      "cell_type": "markdown",
      "source": [
        "## 6.Putting it All Together\n",
        "\n",
        "Let's put everything we've done so far together.\n",
        "\n",
        "Except this time we'll make our code device agnostic (so if there's a GPU available, it'll use it and if not, it will default to the CPU).\n",
        "\n",
        "> **Note:** If you're using Google Colab, to setup a GPU, go to Runtime -> Change runtime type -> Hardware acceleration -> GPU. If you do this, it will reset the Colab runtime and you will lose saved variables."
      ],
      "metadata": {
        "id": "X52NmhhKLs7z"
      }
    },
    {
      "cell_type": "code",
      "source": [
        "# importing Libraries\n",
        "import torch\n",
        "from torch import nn\n",
        "import matplotlib.pyplot as plt\n"
      ],
      "metadata": {
        "id": "mQhm536RPubZ"
      },
      "execution_count": 1,
      "outputs": []
    },
    {
      "cell_type": "markdown",
      "source": [
        "Now let's start making our code device agnostic by setting `device=\"cuda\"` if it's available, otherwise it'll default to `device=\"cpu\"`.\n",
        "\n"
      ],
      "metadata": {
        "id": "RGVGuiRDP-K_"
      }
    },
    {
      "cell_type": "code",
      "source": [
        "device = \"cuda\" if torch.cuda.is_available() else \"cpu\"\n",
        "device"
      ],
      "metadata": {
        "colab": {
          "base_uri": "https://localhost:8080/",
          "height": 35
        },
        "id": "jrVwFBO0QCfF",
        "outputId": "7bf05bf2-217b-404e-8ebe-57e5f13d33f1"
      },
      "execution_count": 2,
      "outputs": [
        {
          "output_type": "execute_result",
          "data": {
            "text/plain": [
              "'cuda'"
            ],
            "application/vnd.google.colaboratory.intrinsic+json": {
              "type": "string"
            }
          },
          "metadata": {},
          "execution_count": 2
        }
      ]
    },
    {
      "cell_type": "markdown",
      "source": [
        "### 6.1 Data\n",
        "\n",
        "Let's create some data just like before.\n",
        "\n",
        "We'll hard-code some `weight` and `bias` values.\n",
        "\n",
        "Then we'll make a range of numbers between 0 and 1, these will be our `X` values.\n",
        "\n",
        "Finally, we'll use the `X` values, as well as the `weight` and `bias` values to create `y` using the linear regression formula (`y = weight * X + bias`)."
      ],
      "metadata": {
        "id": "VM1PoNDaQJjn"
      }
    },
    {
      "cell_type": "code",
      "source": [
        "# specify the weight and bias\n",
        "weight = 0.9\n",
        "bias  = 0.5\n",
        "\n",
        "# lets make the X values\n",
        "\n",
        "X = torch.arange(start = 0 , end = 1 , step = 0.01).reshape(100,1)\n",
        "y =  weight * X + bias\n"
      ],
      "metadata": {
        "id": "Dh1zYuEJQrph"
      },
      "execution_count": 3,
      "outputs": []
    },
    {
      "cell_type": "code",
      "source": [
        "X[:10] , y[:10]"
      ],
      "metadata": {
        "colab": {
          "base_uri": "https://localhost:8080/"
        },
        "id": "3akCvii6RcCR",
        "outputId": "cd525ddc-b911-40fe-b5de-1b9cd1c924f1"
      },
      "execution_count": 4,
      "outputs": [
        {
          "output_type": "execute_result",
          "data": {
            "text/plain": [
              "(tensor([[0.0000],\n",
              "         [0.0100],\n",
              "         [0.0200],\n",
              "         [0.0300],\n",
              "         [0.0400],\n",
              "         [0.0500],\n",
              "         [0.0600],\n",
              "         [0.0700],\n",
              "         [0.0800],\n",
              "         [0.0900]]),\n",
              " tensor([[0.5000],\n",
              "         [0.5090],\n",
              "         [0.5180],\n",
              "         [0.5270],\n",
              "         [0.5360],\n",
              "         [0.5450],\n",
              "         [0.5540],\n",
              "         [0.5630],\n",
              "         [0.5720],\n",
              "         [0.5810]]))"
            ]
          },
          "metadata": {},
          "execution_count": 4
        }
      ]
    },
    {
      "cell_type": "markdown",
      "source": [
        "### 6.2 Train & Test Split\n",
        "\n",
        "We will split the data into traing = 80% & test = 20%"
      ],
      "metadata": {
        "id": "4bZmbFMQRlsm"
      }
    },
    {
      "cell_type": "code",
      "source": [
        "train_split = int(0.8 *len(X))\n",
        "\n",
        "X_train , y_train = X[:train_split], y[:train_split]\n",
        "X_test , y_test = X[train_split:],y[train_split:]\n",
        "\n",
        "\n",
        "len(X_train) ,len(y_train) ,len(X_test) ,len(y_test)"
      ],
      "metadata": {
        "colab": {
          "base_uri": "https://localhost:8080/"
        },
        "id": "JiU4UeooR8lu",
        "outputId": "ccb1248d-e459-47a3-b3a6-68a5f72dda6e"
      },
      "execution_count": 5,
      "outputs": [
        {
          "output_type": "execute_result",
          "data": {
            "text/plain": [
              "(80, 80, 20, 20)"
            ]
          },
          "metadata": {},
          "execution_count": 5
        }
      ]
    },
    {
      "cell_type": "markdown",
      "source": [
        "Excellent, let's visualize them to make sure they look okay."
      ],
      "metadata": {
        "id": "S6D9gSzETOgI"
      }
    },
    {
      "cell_type": "code",
      "source": [
        "plot_predictions()"
      ],
      "metadata": {
        "colab": {
          "base_uri": "https://localhost:8080/",
          "height": 445
        },
        "id": "5td54UYsTdUU",
        "outputId": "6c090dcd-4d2c-442b-8d5e-084e29830628"
      },
      "execution_count": 8,
      "outputs": [
        {
          "output_type": "display_data",
          "data": {
            "text/plain": [
              "<Figure size 800x500 with 1 Axes>"
            ],
            "image/png": "[encoded data removed]"
          },
          "metadata": {}
        }
      ]
    },
    {
      "cell_type": "markdown",
      "source": [
        "### 6.2 Building a PyTorch Linear Model\n",
        "\n",
        "We've got some data, now it's time to make a model.\n",
        "\n",
        "We'll create the same style of model as before except this time, instead of defining the weight and bias parameters of our model manually using `nn.Parameter()`, we'll use [`nn.Linear(in_features, out_features)`](https://pytorch.org/docs/stable/generated/torch.nn.Linear.html) to do it for us.\n",
        "\n",
        "Where `in_features` is the number of dimensions your input data has and `out_features` is the number of dimensions you'd like it to be output to.\n",
        "\n",
        "> In our case `in_features` is equal to 1 , & also `out_features` also equla to 1"
      ],
      "metadata": {
        "id": "R-j0lxIHTf7J"
      }
    },
    {
      "cell_type": "code",
      "source": [
        "class LinearRegressionModelV2(nn.Module):\n",
        "  def __init__(self):\n",
        "    super().__init__()\n",
        "    # Linear layer for the forward pass\n",
        "    self.linear = nn.Linear(in_features = 1,\n",
        "                            out_features= 1)\n",
        "\n",
        "  # define the forward method\n",
        "  def forward(self,x):\n",
        "    return self.linear(x)"
      ],
      "metadata": {
        "id": "vhUgcmwvTzXc"
      },
      "execution_count": 9,
      "outputs": []
    },
    {
      "cell_type": "code",
      "source": [
        "# lets have instance of the model\n",
        "\n",
        "torch.manual_seed(42)\n",
        "\n",
        "model_1 = LinearRegressionModelV2()\n",
        "model_1"
      ],
      "metadata": {
        "colab": {
          "base_uri": "https://localhost:8080/"
        },
        "id": "4tzDiIwdUy5o",
        "outputId": "f69c0cd3-4a5b-450b-9e42-04dd6414d841"
      },
      "execution_count": 10,
      "outputs": [
        {
          "output_type": "execute_result",
          "data": {
            "text/plain": [
              "LinearRegressionModelV2(\n",
              "  (linear): Linear(in_features=1, out_features=1, bias=True)\n",
              ")"
            ]
          },
          "metadata": {},
          "execution_count": 10
        }
      ]
    },
    {
      "cell_type": "code",
      "source": [
        "list(model_1.parameters()),  model_1.state_dict()"
      ],
      "metadata": {
        "colab": {
          "base_uri": "https://localhost:8080/"
        },
        "id": "7gefYTBxVK7H",
        "outputId": "8d96fc76-334e-40dc-a985-900caf81697c"
      },
      "execution_count": 11,
      "outputs": [
        {
          "output_type": "execute_result",
          "data": {
            "text/plain": [
              "([Parameter containing:\n",
              "  tensor([[0.7645]], requires_grad=True),\n",
              "  Parameter containing:\n",
              "  tensor([0.8300], requires_grad=True)],\n",
              " OrderedDict([('linear.weight', tensor([[0.7645]])),\n",
              "              ('linear.bias', tensor([0.8300]))]))"
            ]
          },
          "metadata": {},
          "execution_count": 11
        }
      ]
    },
    {
      "cell_type": "markdown",
      "source": [
        "Let's have a look on the device of the model."
      ],
      "metadata": {
        "id": "CSBt3Vv0VXsI"
      }
    },
    {
      "cell_type": "code",
      "source": [
        "next(model_1.parameters()).device"
      ],
      "metadata": {
        "colab": {
          "base_uri": "https://localhost:8080/"
        },
        "id": "kXOG0YyMVhhZ",
        "outputId": "b9b840a7-6fa7-4d12-bc55-a719b0d4d06d"
      },
      "execution_count": 12,
      "outputs": [
        {
          "output_type": "execute_result",
          "data": {
            "text/plain": [
              "device(type='cpu')"
            ]
          },
          "metadata": {},
          "execution_count": 12
        }
      ]
    },
    {
      "cell_type": "markdown",
      "source": [
        "Let's change it to be on the GPU (if it's available).\n",
        "\n",
        "we can do this by `to.device()` method."
      ],
      "metadata": {
        "id": "kjdEuHarVqIh"
      }
    },
    {
      "cell_type": "code",
      "source": [
        "  # set the model to GPU\n",
        "\n",
        "model_1.to(device)\n",
        "next(model_1.parameters()).device"
      ],
      "metadata": {
        "colab": {
          "base_uri": "https://localhost:8080/"
        },
        "id": "uLYH7ZdCWL6v",
        "outputId": "d7eaf602-089d-4e1e-8e68-8cd8ccecde3b"
      },
      "execution_count": 13,
      "outputs": [
        {
          "output_type": "execute_result",
          "data": {
            "text/plain": [
              "device(type='cuda', index=0)"
            ]
          },
          "metadata": {},
          "execution_count": 13
        }
      ]
    },
    {
      "cell_type": "markdown",
      "source": [
        "Nice! Because of our device agnostic code, the above cell will work regardless of whether a GPU is available or not.\n",
        "\n",
        "If you do have access to a CUDA-enabled GPU, you should see an output of something like:\n",
        "\n",
        "```\n",
        "device(type='cuda', index=0)\n",
        "```"
      ],
      "metadata": {
        "id": "Fn7SodLkW67P"
      }
    },
    {
      "cell_type": "markdown",
      "source": [
        "### 6.3 Training\n",
        "\n",
        "\n",
        "Peform this step .....\n",
        "\n",
        "\n",
        "\n",
        "*   Creating loss function `nn.L1Loss()` and an optimizer `optim.SGD()`.\n",
        "*   Training and Testing loop.\n",
        "\n",
        "\n",
        "\n",
        "\n",
        "\n",
        "\n"
      ],
      "metadata": {
        "id": "4GjsGp2sXJ2u"
      }
    },
    {
      "cell_type": "code",
      "source": [
        "# Specify the loss function\n",
        "loss_fun = nn.L1Loss()\n",
        "\n",
        "# Creat the optimizer\n",
        "optimizer = torch.optim.SGD(params = model_1.parameters(),\n",
        "                            lr = 0.01)"
      ],
      "metadata": {
        "id": "vDoaNuWcYVYW"
      },
      "execution_count": 14,
      "outputs": []
    },
    {
      "cell_type": "markdown",
      "source": [
        "\n",
        "\n",
        "The only different thing we'll be doing in training and testing loop compared to the previous training loop is putting the data on the target `device`.\n",
        "\n",
        "\n"
      ],
      "metadata": {
        "id": "MI_uzNx9Z8JO"
      }
    },
    {
      "cell_type": "code",
      "source": [
        "torch.manual_seed(42)\n",
        "\n",
        "# Set the number of epochs\n",
        "epochs = 200\n",
        "\n",
        "# Put data on the (available)(GPU,CPU) device\n",
        "X_train = X_train.to(device)\n",
        "X_test = X_test.to(device)\n",
        "y_train = y_train.to(device)\n",
        "y_test = y_test.to(device)\n",
        "\n",
        "for epoch in range(epochs):\n",
        "    ### Training\n",
        "    # training mode\n",
        "    model_1.train()\n",
        "\n",
        "    # 1. Forward pass\n",
        "    y_pred = model_1(X_train)\n",
        "\n",
        "    # 2. Calculate loss\n",
        "    loss = loss_fun(y_pred, y_train)\n",
        "\n",
        "    # 3. Zero grad optimizer\n",
        "    optimizer.zero_grad()\n",
        "\n",
        "    # 4. Loss backward\n",
        "    loss.backward()\n",
        "\n",
        "    # 5. Step the optimizer\n",
        "    optimizer.step()\n",
        "\n",
        "    ### Testing\n",
        "    model_1.eval() # put the model in evaluation mode for testing (inference)\n",
        "    # 1. Forward pass\n",
        "    with torch.inference_mode():\n",
        "        test_pred = model_1(X_test)\n",
        "\n",
        "        # 2. Calculate the loss\n",
        "        test_loss = loss_fun(test_pred, y_test)\n",
        "\n",
        "    if epoch % 10 == 0:\n",
        "        print(f\"Epoch: {epoch} | Train loss: {loss} | Test loss: {test_loss}\")"
      ],
      "metadata": {
        "colab": {
          "base_uri": "https://localhost:8080/"
        },
        "id": "k0qwZmPBaS3l",
        "outputId": "566f6ad6-9c01-410c-8d10-d708a869f8f7"
      },
      "execution_count": 15,
      "outputs": [
        {
          "output_type": "stream",
          "name": "stdout",
          "text": [
            "Epoch: 0 | Train loss: 0.2765006422996521 | Test loss: 0.19523465633392334\n",
            "Epoch: 10 | Train loss: 0.16089823842048645 | Test loss: 0.0598822645843029\n",
            "Epoch: 20 | Train loss: 0.05803891643881798 | Test loss: 0.060963183641433716\n",
            "Epoch: 30 | Train loss: 0.04318768531084061 | Test loss: 0.0891447588801384\n",
            "Epoch: 40 | Train loss: 0.039210300892591476 | Test loss: 0.08915393799543381\n",
            "Epoch: 50 | Train loss: 0.03576306626200676 | Test loss: 0.08219867199659348\n",
            "Epoch: 60 | Train loss: 0.032336048781871796 | Test loss: 0.07455109804868698\n",
            "Epoch: 70 | Train loss: 0.02890903130173683 | Test loss: 0.0669034942984581\n",
            "Epoch: 80 | Train loss: 0.025482013821601868 | Test loss: 0.05925590544939041\n",
            "Epoch: 90 | Train loss: 0.02205597423017025 | Test loss: 0.05126434564590454\n",
            "Epoch: 100 | Train loss: 0.018629929050803185 | Test loss: 0.04327277094125748\n",
            "Epoch: 110 | Train loss: 0.015204858966171741 | Test loss: 0.03493723273277283\n",
            "Epoch: 120 | Train loss: 0.011778819374740124 | Test loss: 0.02694566920399666\n",
            "Epoch: 130 | Train loss: 0.008352773264050484 | Test loss: 0.018954098224639893\n",
            "Epoch: 140 | Train loss: 0.004927703179419041 | Test loss: 0.010618549771606922\n",
            "Epoch: 150 | Train loss: 0.0019650624599307775 | Test loss: 0.0019621073734015226\n",
            "Epoch: 160 | Train loss: 0.007198614068329334 | Test loss: 0.0019621073734015226\n",
            "Epoch: 170 | Train loss: 0.007198614068329334 | Test loss: 0.0019621073734015226\n",
            "Epoch: 180 | Train loss: 0.007198614068329334 | Test loss: 0.0019621073734015226\n",
            "Epoch: 190 | Train loss: 0.007198614068329334 | Test loss: 0.0019621073734015226\n"
          ]
        }
      ]
    },
    {
      "cell_type": "code",
      "source": [
        "\n",
        "model_1.state_dict() , (weight , bias)"
      ],
      "metadata": {
        "colab": {
          "base_uri": "https://localhost:8080/"
        },
        "id": "HBRB8FfnchQj",
        "outputId": "8987545e-8871-4167-aebf-33bac9a1f01c"
      },
      "execution_count": 16,
      "outputs": [
        {
          "output_type": "execute_result",
          "data": {
            "text/plain": [
              "(OrderedDict([('linear.weight', tensor([[0.8913]], device='cuda:0')),\n",
              "              ('linear.bias', tensor([0.4963], device='cuda:0'))]),\n",
              " (0.9, 0.5))"
            ]
          },
          "metadata": {},
          "execution_count": 16
        }
      ]
    },
    {
      "cell_type": "markdown",
      "source": [
        "\n",
        "### 6.4 Making predictions\n",
        "\n",
        "Now we've got a trained model, let's turn on it's evaluation mode and make some predictions."
      ],
      "metadata": {
        "id": "WOrbqRkzdhIy"
      }
    },
    {
      "cell_type": "code",
      "source": [
        "# put the model on the eval mode\n",
        "model_1.eval()\n",
        "\n",
        "with torch.inference_mode():\n",
        "  y_preds = model_1(X_test)\n",
        "\n",
        "y_preds\n"
      ],
      "metadata": {
        "colab": {
          "base_uri": "https://localhost:8080/"
        },
        "id": "w6eUpa_geK9r",
        "outputId": "d495764e-969c-44db-e946-a242a11732e8"
      },
      "execution_count": 17,
      "outputs": [
        {
          "output_type": "execute_result",
          "data": {
            "text/plain": [
              "tensor([[1.2093],\n",
              "        [1.2182],\n",
              "        [1.2271],\n",
              "        [1.2360],\n",
              "        [1.2449],\n",
              "        [1.2538],\n",
              "        [1.2627],\n",
              "        [1.2716],\n",
              "        [1.2806],\n",
              "        [1.2895],\n",
              "        [1.2984],\n",
              "        [1.3073],\n",
              "        [1.3162],\n",
              "        [1.3251],\n",
              "        [1.3340],\n",
              "        [1.3429],\n",
              "        [1.3519],\n",
              "        [1.3608],\n",
              "        [1.3697],\n",
              "        [1.3786]], device='cuda:0')"
            ]
          },
          "metadata": {},
          "execution_count": 17
        }
      ]
    },
    {
      "cell_type": "markdown",
      "source": [
        "> **Note:** Many data science libraries such as pandas, matplotlib and NumPy aren't capable of using data that is stored on GPU. So you might run into some issues when trying to use a function from one of these libraries with tensor data not stored on the CPU. To fix this, you can call [`.cpu()`](https://pytorch.org/docs/stable/generated/torch.Tensor.cpu.html) on your target tensor to return a copy of your target tensor on the CPU."
      ],
      "metadata": {
        "id": "NLzvtpp0egDP"
      }
    },
    {
      "cell_type": "code",
      "source": [
        "# plot_predictions(predictions=y_preds) # -> won't work... data not on CPU\n",
        "\n",
        "# Put data on the CPU and plot it\n",
        "\n",
        "X_train = X_train.cpu()\n",
        "X_test = X_test.cpu()\n",
        "y_train = y_train.cpu()\n",
        "y_test = y_test.cpu()\n",
        "plot_predictions(predictions=y_preds.cpu())"
      ],
      "metadata": {
        "colab": {
          "base_uri": "https://localhost:8080/",
          "height": 445
        },
        "id": "uIIKqgokfsNO",
        "outputId": "26cc5eec-b757-402b-f1b7-86bcf42220d7"
      },
      "execution_count": 18,
      "outputs": [
        {
          "output_type": "display_data",
          "data": {
            "text/plain": [
              "<Figure size 800x500 with 1 Axes>"
            ],
            "image/png": "[encoded data removed]"
          },
          "metadata": {}
        }
      ]
    },
    {
      "cell_type": "markdown",
      "source": [
        "### 6.5 Saving and loading a model\n",
        "\n",
        "\n"
      ],
      "metadata": {
        "id": "bh6a8RwPe0UJ"
      }
    },
    {
      "cell_type": "code",
      "source": [
        "from pathlib import Path\n",
        "\n",
        "# 1. Create models directory\n",
        "MODEL_PATH = Path(\"models\")\n",
        "MODEL_PATH.mkdir(parents=True, exist_ok=True)\n",
        "\n",
        "# Model Name\n",
        "MODEL_NAME = \"1#pytorch_workflow_model_1.pth\"\n",
        "# 2. Create model save path\n",
        "MODEL_SAVE_PATH = MODEL_PATH / MODEL_NAME\n",
        "\n",
        "# 3. Save the model state dict\n",
        "print(f\"Saving model to: {MODEL_SAVE_PATH}\")\n",
        "torch.save(obj=model_1.state_dict(),\n",
        "           f=MODEL_SAVE_PATH)"
      ],
      "metadata": {
        "colab": {
          "base_uri": "https://localhost:8080/"
        },
        "id": "iiVRKbHdf1X3",
        "outputId": "978e7203-bfdd-40cb-9b64-a6590335a9c2"
      },
      "execution_count": 19,
      "outputs": [
        {
          "output_type": "stream",
          "name": "stdout",
          "text": [
            "Saving model to: models/1#pytorch_workflow_model_1.pth\n"
          ]
        }
      ]
    },
    {
      "cell_type": "code",
      "source": [
        "# New instance of LinearRegressionModelV2\n",
        "loaded_model_1 = LinearRegressionModelV2()\n",
        "\n",
        "# Load model state dict\n",
        "loaded_model_1.load_state_dict(torch.load(MODEL_SAVE_PATH))\n",
        "\n",
        "# Put model to target device(GPU)\n",
        "loaded_model_1.to(device)\n",
        "\n",
        "print(f\"Loaded model:\\n{loaded_model_1}\")\n",
        "print(f\"Model on device:\\n{next(loaded_model_1.parameters()).device}\")"
      ],
      "metadata": {
        "colab": {
          "base_uri": "https://localhost:8080/"
        },
        "id": "uWAujbbrf7nL",
        "outputId": "31a4a2af-0194-42f6-8feb-36e27815edbf"
      },
      "execution_count": 20,
      "outputs": [
        {
          "output_type": "stream",
          "name": "stdout",
          "text": [
            "Loaded model:\n",
            "LinearRegressionModelV2(\n",
            "  (linear): Linear(in_features=1, out_features=1, bias=True)\n",
            ")\n",
            "Model on device:\n",
            "cuda:0\n"
          ]
        }
      ]
    },
    {
      "cell_type": "code",
      "source": [
        "# Put data on the (available)(GPU,CPU) device\n",
        "X_train = X_train.to(device)\n",
        "X_test = X_test.to(device)\n",
        "y_train = y_train.to(device)\n",
        "y_test = y_test.to(device)"
      ],
      "metadata": {
        "id": "s8D0sGKri0o9"
      },
      "execution_count": 21,
      "outputs": []
    },
    {
      "cell_type": "code",
      "source": [
        "# Evaluate loaded model\n",
        "loaded_model_1.eval()\n",
        "with torch.inference_mode():\n",
        "    loaded_model_1_preds = loaded_model_1(X_test)\n",
        "y_preds == loaded_model_1_preds"
      ],
      "metadata": {
        "colab": {
          "base_uri": "https://localhost:8080/"
        },
        "id": "PTrkq1OBgS8f",
        "outputId": "a4be1f96-96b7-4b4a-f89b-94b39d0e9a06"
      },
      "execution_count": 22,
      "outputs": [
        {
          "output_type": "execute_result",
          "data": {
            "text/plain": [
              "tensor([[True],\n",
              "        [True],\n",
              "        [True],\n",
              "        [True],\n",
              "        [True],\n",
              "        [True],\n",
              "        [True],\n",
              "        [True],\n",
              "        [True],\n",
              "        [True],\n",
              "        [True],\n",
              "        [True],\n",
              "        [True],\n",
              "        [True],\n",
              "        [True],\n",
              "        [True],\n",
              "        [True],\n",
              "        [True],\n",
              "        [True],\n",
              "        [True]], device='cuda:0')"
            ]
          },
          "metadata": {},
          "execution_count": 22
        }
      ]
    },
    {
      "cell_type": "code",
      "source": [],
      "metadata": {
        "id": "bYw7SCdlil_e"
      },
      "execution_count": 22,
      "outputs": []
    }
  ]
}
